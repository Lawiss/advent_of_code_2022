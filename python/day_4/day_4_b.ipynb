{
 "cells": [
  {
   "cell_type": "code",
   "execution_count": 3,
   "id": "d1670da5-2a12-4d1a-b07c-8b8517abf0df",
   "metadata": {
    "execution": {
     "iopub.execute_input": "2022-12-04T18:57:57.201278Z",
     "iopub.status.busy": "2022-12-04T18:57:57.200134Z",
     "iopub.status.idle": "2022-12-04T18:57:58.884188Z",
     "shell.execute_reply": "2022-12-04T18:57:58.883894Z",
     "shell.execute_reply.started": "2022-12-04T18:57:57.201218Z"
    },
    "tags": []
   },
   "outputs": [
    {
     "name": "stdout",
     "output_type": "stream",
     "text": [
      "2.03 ms ± 26.6 µs per loop (mean ± std. dev. of 7 runs, 100 loops each)\n"
     ]
    }
   ],
   "source": [
    "%%timeit\n",
    "total = 0\n",
    "with open(\"input\", \"r\") as f:\n",
    "    for line in f:\n",
    "        line = line.split(\",\")\n",
    "        left, right = line[0].split(\"-\"), line[1].split(\"-\")\n",
    "        left_range = set(range(int(left[0]), int(left[1]) + 1))\n",
    "        right_range = set(range(int(right[0]), int(right[1]) + 1))\n",
    "        if (right_range & left_range):\n",
    "            total += 1"
   ]
  }
 ],
 "metadata": {
  "kernelspec": {
   "display_name": "Python [conda env:analytics]",
   "language": "python",
   "name": "conda-env-analytics-py"
  },
  "language_info": {
   "codemirror_mode": {
    "name": "ipython",
    "version": 3
   },
   "file_extension": ".py",
   "mimetype": "text/x-python",
   "name": "python",
   "nbconvert_exporter": "python",
   "pygments_lexer": "ipython3",
   "version": "3.10.6"
  }
 },
 "nbformat": 4,
 "nbformat_minor": 5
}
