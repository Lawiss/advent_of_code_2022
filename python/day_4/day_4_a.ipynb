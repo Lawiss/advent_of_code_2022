{
 "cells": [
  {
   "cell_type": "code",
   "execution_count": 28,
   "id": "54c3e6c5-9230-4817-bfcf-f7aefa74a71a",
   "metadata": {
    "execution": {
     "iopub.execute_input": "2022-12-04T18:58:14.782702Z",
     "iopub.status.busy": "2022-12-04T18:58:14.781902Z",
     "iopub.status.idle": "2022-12-04T18:58:30.077611Z",
     "shell.execute_reply": "2022-12-04T18:58:30.077310Z",
     "shell.execute_reply.started": "2022-12-04T18:58:14.782606Z"
    },
    "tags": []
   },
   "outputs": [
    {
     "name": "stdout",
     "output_type": "stream",
     "text": [
      "1.88 ms ± 6.33 µs per loop (mean ± std. dev. of 7 runs, 1,000 loops each)\n"
     ]
    }
   ],
   "source": [
    "%%timeit\n",
    "total = 0\n",
    "with open(\"input\", \"r\") as f:\n",
    "    for line in f:\n",
    "        line = line.split(\",\")\n",
    "        left, right = line[0].split(\"-\"), line[1].split(\"-\")\n",
    "        left_range = set(range(int(left[0]), int(left[1]) + 1))\n",
    "        right_range = set(range(int(right[0]), int(right[1]) + 1))\n",
    "        if (right_range <= left_range) or (left_range <= right_range):\n",
    "            total += 1"
   ]
  },
  {
   "cell_type": "code",
   "execution_count": null,
   "id": "fe28ef48-4a0b-4567-be95-fe283f7490f1",
   "metadata": {},
   "outputs": [],
   "source": []
  }
 ],
 "metadata": {
  "kernelspec": {
   "display_name": "Python [conda env:analytics]",
   "language": "python",
   "name": "conda-env-analytics-py"
  },
  "language_info": {
   "codemirror_mode": {
    "name": "ipython",
    "version": 3
   },
   "file_extension": ".py",
   "mimetype": "text/x-python",
   "name": "python",
   "nbconvert_exporter": "python",
   "pygments_lexer": "ipython3",
   "version": "3.10.6"
  }
 },
 "nbformat": 4,
 "nbformat_minor": 5
}
