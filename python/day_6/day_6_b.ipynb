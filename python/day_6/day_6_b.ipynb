{
 "cells": [
  {
   "cell_type": "code",
   "execution_count": 3,
   "id": "7e332a20-acd8-4241-b1f6-a9302265bf6c",
   "metadata": {
    "execution": {
     "iopub.execute_input": "2022-12-06T14:51:42.922559Z",
     "iopub.status.busy": "2022-12-06T14:51:42.922156Z",
     "iopub.status.idle": "2022-12-06T14:51:42.928968Z",
     "shell.execute_reply": "2022-12-06T14:51:42.927696Z",
     "shell.execute_reply.started": "2022-12-06T14:51:42.922534Z"
    },
    "tags": []
   },
   "outputs": [],
   "source": [
    "with open(\"input\",\"r\") as f:\n",
    "    buffer = f.read()"
   ]
  },
  {
   "cell_type": "code",
   "execution_count": 4,
   "id": "28e69976-6d82-4778-b18b-e0bd2cc21c38",
   "metadata": {
    "execution": {
     "iopub.execute_input": "2022-12-06T14:51:43.146673Z",
     "iopub.status.busy": "2022-12-06T14:51:43.146190Z",
     "iopub.status.idle": "2022-12-06T14:51:43.163754Z",
     "shell.execute_reply": "2022-12-06T14:51:43.162944Z",
     "shell.execute_reply.started": "2022-12-06T14:51:43.146647Z"
    },
    "tags": []
   },
   "outputs": [],
   "source": [
    "marker = None\n",
    "start_char = 0\n",
    "for i in range(len(buffer)-3):\n",
    "    potential_marker = buffer[i:i+14]\n",
    "    if len(set(potential_marker))==14:\n",
    "        marker = potential_marker\n",
    "        start_char = i+14\n",
    "        break\n",
    "    "
   ]
  },
  {
   "cell_type": "code",
   "execution_count": 5,
   "id": "51dcf179-bb82-4494-8323-04c58e993142",
   "metadata": {
    "execution": {
     "iopub.execute_input": "2022-12-06T14:51:43.379322Z",
     "iopub.status.busy": "2022-12-06T14:51:43.378874Z",
     "iopub.status.idle": "2022-12-06T14:51:43.397542Z",
     "shell.execute_reply": "2022-12-06T14:51:43.397210Z",
     "shell.execute_reply.started": "2022-12-06T14:51:43.379296Z"
    },
    "tags": []
   },
   "outputs": [
    {
     "data": {
      "text/plain": [
       "'dhlszqjmcbnwrp'"
      ]
     },
     "execution_count": 5,
     "metadata": {},
     "output_type": "execute_result"
    }
   ],
   "source": [
    "marker"
   ]
  },
  {
   "cell_type": "code",
   "execution_count": 6,
   "id": "0d02e092-10dc-449c-aff1-da283f0cb95f",
   "metadata": {
    "execution": {
     "iopub.execute_input": "2022-12-06T14:51:43.922298Z",
     "iopub.status.busy": "2022-12-06T14:51:43.921877Z",
     "iopub.status.idle": "2022-12-06T14:51:43.933074Z",
     "shell.execute_reply": "2022-12-06T14:51:43.931953Z",
     "shell.execute_reply.started": "2022-12-06T14:51:43.922270Z"
    },
    "tags": []
   },
   "outputs": [
    {
     "data": {
      "text/plain": [
       "3551"
      ]
     },
     "execution_count": 6,
     "metadata": {},
     "output_type": "execute_result"
    }
   ],
   "source": [
    "start_char"
   ]
  },
  {
   "cell_type": "code",
   "execution_count": null,
   "id": "bbadb63b-8375-4abb-a00e-022717ed79f5",
   "metadata": {},
   "outputs": [],
   "source": []
  }
 ],
 "metadata": {
  "kernelspec": {
   "display_name": "Python [conda env:analytics]",
   "language": "python",
   "name": "conda-env-analytics-py"
  },
  "language_info": {
   "codemirror_mode": {
    "name": "ipython",
    "version": 3
   },
   "file_extension": ".py",
   "mimetype": "text/x-python",
   "name": "python",
   "nbconvert_exporter": "python",
   "pygments_lexer": "ipython3",
   "version": "3.10.6"
  }
 },
 "nbformat": 4,
 "nbformat_minor": 5
}
