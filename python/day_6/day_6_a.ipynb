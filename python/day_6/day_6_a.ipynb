{
 "cells": [
  {
   "cell_type": "code",
   "execution_count": 2,
   "id": "7e332a20-acd8-4241-b1f6-a9302265bf6c",
   "metadata": {
    "execution": {
     "iopub.execute_input": "2022-12-06T14:45:10.580563Z",
     "iopub.status.busy": "2022-12-06T14:45:10.578566Z",
     "iopub.status.idle": "2022-12-06T14:45:10.590384Z",
     "shell.execute_reply": "2022-12-06T14:45:10.589840Z",
     "shell.execute_reply.started": "2022-12-06T14:45:10.580496Z"
    },
    "tags": []
   },
   "outputs": [],
   "source": [
    "with open(\"input\",\"r\") as f:\n",
    "    buffer = f.read()"
   ]
  },
  {
   "cell_type": "code",
   "execution_count": 21,
   "id": "28e69976-6d82-4778-b18b-e0bd2cc21c38",
   "metadata": {
    "execution": {
     "iopub.execute_input": "2022-12-06T14:50:32.194627Z",
     "iopub.status.busy": "2022-12-06T14:50:32.194134Z",
     "iopub.status.idle": "2022-12-06T14:50:32.205744Z",
     "shell.execute_reply": "2022-12-06T14:50:32.204453Z",
     "shell.execute_reply.started": "2022-12-06T14:50:32.194591Z"
    },
    "tags": []
   },
   "outputs": [],
   "source": [
    "marker = None\n",
    "start_char = 0\n",
    "for i in range(len(buffer)-3):\n",
    "    potential_marker = buffer[i:i+4]\n",
    "    if len(set(potential_marker))==4:\n",
    "        marker = potential_marker\n",
    "        start_char = i+4\n",
    "        break\n",
    "    "
   ]
  },
  {
   "cell_type": "code",
   "execution_count": 22,
   "id": "51dcf179-bb82-4494-8323-04c58e993142",
   "metadata": {
    "execution": {
     "iopub.execute_input": "2022-12-06T14:50:32.445777Z",
     "iopub.status.busy": "2022-12-06T14:50:32.445122Z",
     "iopub.status.idle": "2022-12-06T14:50:32.453231Z",
     "shell.execute_reply": "2022-12-06T14:50:32.452475Z",
     "shell.execute_reply.started": "2022-12-06T14:50:32.445744Z"
    },
    "tags": []
   },
   "outputs": [
    {
     "data": {
      "text/plain": [
       "'srtm'"
      ]
     },
     "execution_count": 22,
     "metadata": {},
     "output_type": "execute_result"
    }
   ],
   "source": [
    "marker"
   ]
  },
  {
   "cell_type": "code",
   "execution_count": 23,
   "id": "0d02e092-10dc-449c-aff1-da283f0cb95f",
   "metadata": {
    "execution": {
     "iopub.execute_input": "2022-12-06T14:50:32.623180Z",
     "iopub.status.busy": "2022-12-06T14:50:32.622226Z",
     "iopub.status.idle": "2022-12-06T14:50:32.642266Z",
     "shell.execute_reply": "2022-12-06T14:50:32.638110Z",
     "shell.execute_reply.started": "2022-12-06T14:50:32.623145Z"
    },
    "tags": []
   },
   "outputs": [
    {
     "data": {
      "text/plain": [
       "1802"
      ]
     },
     "execution_count": 23,
     "metadata": {},
     "output_type": "execute_result"
    }
   ],
   "source": [
    "start_char"
   ]
  }
 ],
 "metadata": {
  "kernelspec": {
   "display_name": "Python [conda env:analytics]",
   "language": "python",
   "name": "conda-env-analytics-py"
  },
  "language_info": {
   "codemirror_mode": {
    "name": "ipython",
    "version": 3
   },
   "file_extension": ".py",
   "mimetype": "text/x-python",
   "name": "python",
   "nbconvert_exporter": "python",
   "pygments_lexer": "ipython3",
   "version": "3.10.6"
  }
 },
 "nbformat": 4,
 "nbformat_minor": 5
}
