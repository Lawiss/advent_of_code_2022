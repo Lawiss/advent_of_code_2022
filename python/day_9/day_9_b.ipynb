{
 "cells": [
  {
   "cell_type": "code",
   "execution_count": 24,
   "id": "b187a25f-49dd-464a-bdd7-589abebb63db",
   "metadata": {
    "execution": {
     "iopub.execute_input": "2022-12-12T13:12:39.144814Z",
     "iopub.status.busy": "2022-12-12T13:12:39.143772Z",
     "iopub.status.idle": "2022-12-12T13:12:39.234214Z",
     "shell.execute_reply": "2022-12-12T13:12:39.233846Z",
     "shell.execute_reply.started": "2022-12-12T13:12:39.144744Z"
    },
    "scrolled": true,
    "tags": []
   },
   "outputs": [],
   "source": [
    "positions = [[0,0]]*9\n",
    "head_pos = [0,0]\n",
    "tail_pos_histo = set()\n",
    "with open(\"input\",\"r\") as f:\n",
    "    for line in f:\n",
    "        line = line.replace(\"\\n\",\"\")\n",
    "        line = line.split(\" \")\n",
    "        \n",
    "        direction, distance = line[0],int(line[1])\n",
    "        for i in range(distance):\n",
    "            match direction:\n",
    "                case \"U\":\n",
    "                    head_pos[0]+=1\n",
    "                case \"D\":\n",
    "                    head_pos[0]-=1\n",
    "                case \"L\":\n",
    "                    head_pos[1]-=1\n",
    "                case \"R\":\n",
    "                    head_pos[1]+=1\n",
    "                case _:\n",
    "                    raise Exception(\"Something went wrong!\")\n",
    "                    \n",
    "            #Propage the movement to each knot\n",
    "            position_s = head_pos.copy()\n",
    "            for j in range(len(positions)):\n",
    "                position_e = positions[j].copy()\n",
    "                \n",
    "                \n",
    "                if (position_s[0]!= position_e[0]) and (position_s[1]!= position_e[1]):\n",
    "                    if (abs(position_s[0]- position_e[0])==2) or (abs(position_s[1]- position_e[1])==2):\n",
    "                        #Case when the next move is a diagonal move \n",
    "                        \n",
    "                        upper=False\n",
    "                        if position_s[0]>position_e[0]:\n",
    "                            upper = True\n",
    "\n",
    "                        righter=False\n",
    "                        if position_s[1]>position_e[1]:\n",
    "                            righter = True\n",
    "\n",
    "                        match (upper,righter):\n",
    "                            case (True,True):\n",
    "                                position_e[0]+=1\n",
    "                                position_e[1]+=1\n",
    "                            case (True,False):\n",
    "                                position_e[0]+=1\n",
    "                                position_e[1]-=1\n",
    "                            case (False,True):\n",
    "                                position_e[0]-=1\n",
    "                                position_e[1]+=1\n",
    "                            case (False,False):\n",
    "                                position_e[0]-=1\n",
    "                                position_e[1]-=1\n",
    "                            case _:\n",
    "                                raise Exception(\"Something went wrong 2!\")\n",
    "                \n",
    "                elif (position_s[0] == position_e[0]) and abs(position_s[1]-position_e[1])==2:\n",
    "                    #Case when the next move is a move in the same column\n",
    "\n",
    "                    position_e[1] += 1*(position_s[1]-position_e[1])//2\n",
    "                elif (position_s[1] == position_e[1]) and abs(position_s[0]-position_e[0])==2:\n",
    "                    #Case when the next move is a move in the same row\n",
    "\n",
    "                    position_e[0] += 1*(position_s[0]-position_e[0])//2\n",
    "                    \n",
    "                position_s = position_e.copy()\n",
    "                positions[j] = position_e.copy()\n",
    "                \n",
    "            tail_pos_histo.add(tuple(positions[-1]))\n",
    "\n",
    "\n",
    "        "
   ]
  },
  {
   "cell_type": "code",
   "execution_count": 25,
   "id": "c24b2e07-313f-4300-a879-5b76bc901953",
   "metadata": {
    "execution": {
     "iopub.execute_input": "2022-12-12T13:12:41.136169Z",
     "iopub.status.busy": "2022-12-12T13:12:41.135459Z",
     "iopub.status.idle": "2022-12-12T13:12:41.146768Z",
     "shell.execute_reply": "2022-12-12T13:12:41.146054Z",
     "shell.execute_reply.started": "2022-12-12T13:12:41.136118Z"
    },
    "tags": []
   },
   "outputs": [
    {
     "data": {
      "text/plain": [
       "2541"
      ]
     },
     "execution_count": 25,
     "metadata": {},
     "output_type": "execute_result"
    }
   ],
   "source": [
    "len(tail_pos_histo)"
   ]
  }
 ],
 "metadata": {
  "kernelspec": {
   "display_name": "Python [conda env:analytics]",
   "language": "python",
   "name": "conda-env-analytics-py"
  },
  "language_info": {
   "codemirror_mode": {
    "name": "ipython",
    "version": 3
   },
   "file_extension": ".py",
   "mimetype": "text/x-python",
   "name": "python",
   "nbconvert_exporter": "python",
   "pygments_lexer": "ipython3",
   "version": "3.10.6"
  }
 },
 "nbformat": 4,
 "nbformat_minor": 5
}
