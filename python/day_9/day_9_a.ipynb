{
 "cells": [
  {
   "cell_type": "code",
   "execution_count": 1,
   "id": "b187a25f-49dd-464a-bdd7-589abebb63db",
   "metadata": {
    "execution": {
     "iopub.execute_input": "2022-12-12T13:13:20.865123Z",
     "iopub.status.busy": "2022-12-12T13:13:20.864093Z",
     "iopub.status.idle": "2022-12-12T13:13:20.897615Z",
     "shell.execute_reply": "2022-12-12T13:13:20.896900Z",
     "shell.execute_reply.started": "2022-12-12T13:13:20.864828Z"
    },
    "scrolled": true,
    "tags": []
   },
   "outputs": [],
   "source": [
    "head_pos = [0,0]\n",
    "tail_pos = [0,0]\n",
    "tail_pos_histo = set()\n",
    "with open(\"input\",\"r\") as f:\n",
    "    for line in f:\n",
    "        line = line.replace(\"\\n\",\"\")\n",
    "        line = line.split(\" \")\n",
    "\n",
    "        direction, distance = line[0],int(line[1])\n",
    "        for i in range(distance):\n",
    "            match direction:\n",
    "                case \"U\":\n",
    "                    head_pos[0]+=1\n",
    "                case \"D\":\n",
    "                    head_pos[0]-=1\n",
    "                case \"L\":\n",
    "                    head_pos[1]-=1\n",
    "                case \"R\":\n",
    "                    head_pos[1]+=1\n",
    "                case _:\n",
    "                    raise Exception(\"Something went wrong!\")\n",
    "                    \n",
    "            if (head_pos[0]!= tail_pos[0]) and (head_pos[1]!= tail_pos[1]):\n",
    "                if (abs(head_pos[0]- tail_pos[0])==2) or (abs(head_pos[1]- tail_pos[1])==2):\n",
    "                    upper=False\n",
    "                    if head_pos[0]>tail_pos[0]:\n",
    "                        upper = True\n",
    "\n",
    "                    righter=False\n",
    "                    if head_pos[1]>tail_pos[1]:\n",
    "                        righter = True\n",
    "\n",
    "                    match (upper,righter):\n",
    "                        case (True,True):\n",
    "                            tail_pos[0]+=1\n",
    "                            tail_pos[1]+=1\n",
    "                        case (True,False):\n",
    "                            tail_pos[0]+=1\n",
    "                            tail_pos[1]-=1\n",
    "                        case (False,True):\n",
    "                            tail_pos[0]-=1\n",
    "                            tail_pos[1]+=1\n",
    "                        case (False,False):\n",
    "                            tail_pos[0]-=1\n",
    "                            tail_pos[1]-=1\n",
    "                        case _:\n",
    "                            raise Exception(\"Something went wrong 2!\")\n",
    "                    \n",
    "            elif (head_pos[0] == tail_pos[0]) and abs(head_pos[1]-tail_pos[1])==2:\n",
    "                tail_pos[1] += 1*(head_pos[1]-tail_pos[1])//2\n",
    "            elif (head_pos[1] == tail_pos[1]) and abs(head_pos[0]-tail_pos[0])==2:\n",
    "                tail_pos[0] += 1*(head_pos[0]-tail_pos[0])//2\n",
    "                \n",
    "            tail_pos_histo.add(tuple(tail_pos))\n",
    "\n",
    "        "
   ]
  },
  {
   "cell_type": "code",
   "execution_count": 2,
   "id": "696a3ed8-fef8-429e-b4b0-fe185a2201d2",
   "metadata": {
    "execution": {
     "iopub.execute_input": "2022-12-12T13:13:21.726470Z",
     "iopub.status.busy": "2022-12-12T13:13:21.725524Z",
     "iopub.status.idle": "2022-12-12T13:13:21.738161Z",
     "shell.execute_reply": "2022-12-12T13:13:21.737544Z",
     "shell.execute_reply.started": "2022-12-12T13:13:21.726428Z"
    },
    "tags": []
   },
   "outputs": [
    {
     "data": {
      "text/plain": [
       "6339"
      ]
     },
     "execution_count": 2,
     "metadata": {},
     "output_type": "execute_result"
    }
   ],
   "source": [
    "len(tail_pos_histo)"
   ]
  }
 ],
 "metadata": {
  "kernelspec": {
   "display_name": "Python [conda env:analytics]",
   "language": "python",
   "name": "conda-env-analytics-py"
  },
  "language_info": {
   "codemirror_mode": {
    "name": "ipython",
    "version": 3
   },
   "file_extension": ".py",
   "mimetype": "text/x-python",
   "name": "python",
   "nbconvert_exporter": "python",
   "pygments_lexer": "ipython3",
   "version": "3.10.6"
  }
 },
 "nbformat": 4,
 "nbformat_minor": 5
}
