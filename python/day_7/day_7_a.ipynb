{
 "cells": [
  {
   "cell_type": "code",
   "execution_count": 78,
   "id": "8328dd7e-76fa-493a-951a-84021f8903f9",
   "metadata": {
    "execution": {
     "iopub.execute_input": "2022-12-09T10:14:49.668084Z",
     "iopub.status.busy": "2022-12-09T10:14:49.666884Z",
     "iopub.status.idle": "2022-12-09T10:14:49.682053Z",
     "shell.execute_reply": "2022-12-09T10:14:49.681049Z",
     "shell.execute_reply.started": "2022-12-09T10:14:49.668057Z"
    },
    "tags": []
   },
   "outputs": [],
   "source": [
    "import re"
   ]
  },
  {
   "cell_type": "code",
   "execution_count": 79,
   "id": "9fb15a35-d562-4555-865f-e39804f060df",
   "metadata": {
    "execution": {
     "iopub.execute_input": "2022-12-09T10:14:49.912408Z",
     "iopub.status.busy": "2022-12-09T10:14:49.912217Z",
     "iopub.status.idle": "2022-12-09T10:14:49.929491Z",
     "shell.execute_reply": "2022-12-09T10:14:49.928917Z",
     "shell.execute_reply.started": "2022-12-09T10:14:49.912398Z"
    },
    "scrolled": true,
    "tags": []
   },
   "outputs": [],
   "source": [
    "tree = {}\n",
    "current_subtree = None\n",
    "current_path = \"\"\n",
    "with open(\"input\", \"r\") as f:\n",
    "    for line in f:\n",
    "        line = line.replace(\"\\n\", \"\")\n",
    "        if line == \"$ cd /\":\n",
    "            # cd to root\n",
    "            current_subtree = tree\n",
    "            current_path = \"\"\n",
    "        elif line == \"$ ls\":\n",
    "            # list content, nothing to do\n",
    "            continue\n",
    "        elif line == \"$ cd ..\":\n",
    "            # go up one level in the tree, we use the current path to retrieve the upper level\n",
    "            path = current_path.split(\"/\")\n",
    "            new_tree = tree\n",
    "            for dirname in path[1:-1]:\n",
    "                new_tree = new_tree[dirname]\n",
    "            current_subtree = new_tree\n",
    "            current_path = \"\" + \"/\".join(path[:-1])\n",
    "        elif re.match(r\"\\$ cd [a-z0-9]+\", line):\n",
    "            # go down one level in the tree\n",
    "            dir_to_cd = line.split(\" \")[2]\n",
    "            current_path += \"/\" + dir_to_cd\n",
    "            current_subtree = current_subtree[dir_to_cd]\n",
    "        elif \"dir\" in line:\n",
    "            # Create the dir in the tree if not exist\n",
    "            dir_name = line.split(\" \")[1]\n",
    "            if not dir_name in current_subtree:\n",
    "                current_subtree[dir_name] = {\"SIZE\":0}\n",
    "        elif re.match(r\"\\d+.*\", line):\n",
    "            # add the file in the tree with the name as key and the size as value.\n",
    "            file_data = line.split(\" \")\n",
    "            \n",
    "            size = file_data[0]\n",
    "            filename = file_data[1]\n",
    "            \n",
    "            current_subtree[filename] = size\n",
    "            \n",
    "            # Propagate size of the file to the upper dirs\n",
    "            tmp_tree = tree\n",
    "            path = current_path.split(\"/\")\n",
    "            for dirname in path[1:]:\n",
    "                tmp_tree = tmp_tree[dirname]\n",
    "                tmp_tree[\"SIZE\"] += int(size)\n",
    "        else:\n",
    "            print(\"Something's wrong\")\n",
    "            break"
   ]
  },
  {
   "cell_type": "code",
   "execution_count": 80,
   "id": "46baa362-ba43-4537-95a8-e15e47e57bc6",
   "metadata": {
    "execution": {
     "iopub.execute_input": "2022-12-09T10:14:53.414642Z",
     "iopub.status.busy": "2022-12-09T10:14:53.414191Z",
     "iopub.status.idle": "2022-12-09T10:14:53.431053Z",
     "shell.execute_reply": "2022-12-09T10:14:53.428674Z",
     "shell.execute_reply.started": "2022-12-09T10:14:53.414628Z"
    },
    "scrolled": true,
    "tags": []
   },
   "outputs": [
    {
     "data": {
      "text/plain": [
       "{'csjncqmr': {'SIZE': 8827, 'vdrdm.pfj': '8827'},\n",
       " 'fnfjhvsp': {'SIZE': 980358,\n",
       "  'csjncqmr': {'SIZE': 499575,\n",
       "   'gzjdsn.wlc': '121543',\n",
       "   'ljq': {'SIZE': 378032,\n",
       "    'cwlrlvf': {'SIZE': 151219, 'dcgph': '151219'},\n",
       "    'jpqjhhpg': {'SIZE': 226813, 'dcgph': '188355', 'gfgl.hlg': '38458'}}},\n",
       "  'czpmg': {'SIZE': 311263, 'dcgph': '168232', 'gzjdsn.wlc': '143031'},\n",
       "  'dcgph': '162385',\n",
       "  'hff.cdt': '7135'},\n",
       " 'mhfrct': {'SIZE': 409582,\n",
       "  'clm': {'SIZE': 110296, 'pgmgbfcl': {'SIZE': 110296, 'qbfhj.tmn': '110296'}},\n",
       "  'dcgph': '66710',\n",
       "  'mtfhpcnj': '232576'},\n",
       " 'pgmgbfcl': {'SIZE': 12700902,\n",
       "  'cgchl': '163613',\n",
       "  'nnlr': {'SIZE': 11282773,\n",
       "   'flp': '103051',\n",
       "   'qrhlzd': {'SIZE': 3867479,\n",
       "    'crg': {'SIZE': 241085, 'flp': '55556', 'jswdvn': '185529'},\n",
       "    'dcgph': '246915',\n",
       "    'fcphzfb.fmb': '264791',\n",
       "    'flp': '299291',\n",
       "    'mjqsg': {'SIZE': 1716764,\n",
       "     'fnfjhvsp': {'SIZE': 1263886,\n",
       "      'cctwbs': '24945',\n",
       "      'csjncqmr': '170960',\n",
       "      'ljffgvvz.zld': '316168',\n",
       "      'pgmgbfcl.fzv': '187325',\n",
       "      'qbfhj.tmn': '74133',\n",
       "      'tjhzggs': {'SIZE': 287777, 'csjncqmr.nbd': '287777'},\n",
       "      'vjmgmdz': {'SIZE': 202578,\n",
       "       'vgpb': {'SIZE': 202578, 'bbbg.hlr': '202578'}}},\n",
       "     'jfbzjz': {'SIZE': 207736, 'tjhzggs.cql': '207736'},\n",
       "     'rwg': {'SIZE': 245142,\n",
       "      'csjncqmr': '184997',\n",
       "      'dcgph': '4378',\n",
       "      'qnc.wvv': '55767'}},\n",
       "    'pgmgbfcl': '297202',\n",
       "    'sbbzgbz': {'SIZE': 648077,\n",
       "     'csjncqmr': '321376',\n",
       "     'flp': '317438',\n",
       "     'hrs': '9263'},\n",
       "    'wnsnssbg': {'SIZE': 153354,\n",
       "     'jdjv': {'SIZE': 153354, 'gzjdsn.wlc': '153354'}}},\n",
       "   'rcgmhz': {'SIZE': 299192,\n",
       "    'tjhzggs': {'SIZE': 299192, 'jfbzjz.ttg': '299192'}},\n",
       "   'snwrlr': {'SIZE': 291752,\n",
       "    'csjncqmr.jvn': '30314',\n",
       "    'hcf': {'SIZE': 261438, 'jfbzjz.pfz': '81979', 'ngh': '179459'}},\n",
       "   'vgj': {'SIZE': 6509648,\n",
       "    'jbn.rgz': '278579',\n",
       "    'jzj': {'SIZE': 516245, 'hrs': '295808', 'vqbcl': '220437'},\n",
       "    'lnbhh': {'SIZE': 446056, 'nfmhd.hbq': '212203', 'qgz.mcd': '233853'},\n",
       "    'pgmgbfcl': {'SIZE': 4304391,\n",
       "     'mmbdpj': {'SIZE': 465101, 'hrs': '158542', 'tjhzggs': '306559'},\n",
       "     'mwcdrpm.spr': '138462',\n",
       "     'pgmgbfcl.pwd': '288430',\n",
       "     'rdmwtn.qjj': '132880',\n",
       "     'rfqb.djh': '41775',\n",
       "     'rnd': {'SIZE': 3168146,\n",
       "      'fnfjhvsp.hgt': '223745',\n",
       "      'gdmtnffs.cdm': '138236',\n",
       "      'gmzb': {'SIZE': 186579, 'nsbfn.lsd': '186579'},\n",
       "      'hvl': {'SIZE': 469192,\n",
       "       'csjncqmr.sbc': '312925',\n",
       "       'gqp': '75264',\n",
       "       'gzjdsn.wlc': '81003'},\n",
       "      'mzwmjl.rqq': '266178',\n",
       "      'njpq': {'SIZE': 401684,\n",
       "       'lbnrr.pwd': '188139',\n",
       "       'qgqddvwf.hfl': '213545'},\n",
       "      'qbfhj.tmn': '33906',\n",
       "      'tjhzggs': {'SIZE': 1448626,\n",
       "       'dlwvc': {'SIZE': 1083298,\n",
       "        'jvhjtnft': '75927',\n",
       "        'qbfhj.tmn': '260563',\n",
       "        'vlg': {'SIZE': 746808,\n",
       "         'hgm': '187660',\n",
       "         'rhr': {'SIZE': 286129, 'wnn.jgn': '286129'},\n",
       "         'tdgr.crr': '273019'}},\n",
       "       'jfbzjz': '191782',\n",
       "       'tbldpln': {'SIZE': 173546, 'pdfrsq.pnb': '173546'}}},\n",
       "     'thnbf': '69597'},\n",
       "    'qgvspcpm': {'SIZE': 964377,\n",
       "     'dhrbsl': {'SIZE': 208935, 'gzjdsn.wlc': '58390', 'hrs': '150545'},\n",
       "     'fldhvbq': '286566',\n",
       "     'gzjdsn.wlc': '209725',\n",
       "     'nspz.gwc': '148148',\n",
       "     'tjhzggs': '111003'}},\n",
       "   'znbzt': {'SIZE': 211651, 'gwhb.mfz': '211651'}},\n",
       "  'rrwbnmlh.jtt': '123977',\n",
       "  'tjhzggs': {'SIZE': 803830,\n",
       "   'hgr': {'SIZE': 357320,\n",
       "    'hwvgjdq': {'SIZE': 188108,\n",
       "     'pgmgbfcl': {'SIZE': 188108, 'qgs': {'SIZE': 188108, 'hrs': '188108'}}},\n",
       "    'vwvbt': {'SIZE': 169212, 'tfrm.gjb': '169212'}},\n",
       "   'jfbzjz.dfh': '229076',\n",
       "   'ptfcbwwv': {'SIZE': 67829, 'lpszzl': '67829'},\n",
       "   'qbfhj.tmn': '51893',\n",
       "   'qgtvfh.hvs': '97712'},\n",
       "  'wfl': {'SIZE': 73872, 'hfcm': {'SIZE': 73872, 'flp': '73872'}},\n",
       "  'wpgrl': '252837'},\n",
       " 'qcf': {'SIZE': 29001698,\n",
       "  'ctjw': {'SIZE': 139505, 'mflt.hnr': '139505'},\n",
       "  'dwzmnpr': '177175',\n",
       "  'fqldn': {'SIZE': 22488591,\n",
       "   'bgq': {'SIZE': 2443664,\n",
       "    'gzjdsn.wlc': '40780',\n",
       "    'mnzdbpc': '233301',\n",
       "    'mpdjgbgf': {'SIZE': 525324, 'dcgph': '227105', 'dprcwts.vdt': '298219'},\n",
       "    'qbfhj.tmn': '303076',\n",
       "    'qjs': {'SIZE': 478969, 'pgmgbfcl': '214072', 'qbfhj.tmn': '264897'},\n",
       "    'sbzn.dtj': '189723',\n",
       "    'vhnqcrd': {'SIZE': 672491,\n",
       "     'fnfjhvsp': '178950',\n",
       "     'pgmgbfcl.mst': '180561',\n",
       "     'pgmgbfcl.twp': '312980'}},\n",
       "   'flgrh.tmt': '7260',\n",
       "   'fnfjhvsp': {'SIZE': 222900,\n",
       "    'fnfjhvsp.bng': '141191',\n",
       "    'pgmgbfcl.sfw': '81709'},\n",
       "   'fnr': {'SIZE': 3210462,\n",
       "    'flp': '316638',\n",
       "    'fnfjhvsp': {'SIZE': 285979,\n",
       "     'hrs': '115581',\n",
       "     'jfbzjz': {'SIZE': 170398, 'qbfhj.tmn': '170398'}},\n",
       "    'fqdnn': {'SIZE': 1871102,\n",
       "     'cfg': {'SIZE': 1110906,\n",
       "      'qljztr': {'SIZE': 808074,\n",
       "       'bnlsrfb': '64638',\n",
       "       'csjncqmr': '63440',\n",
       "       'gzjdsn.wlc': '206111',\n",
       "       'hrs': '207890',\n",
       "       'pgmgbfcl.zcw': '265995'},\n",
       "      'tnsw': {'SIZE': 85166, 'lsflqzmc': '85166'},\n",
       "      'zhnqp': {'SIZE': 217666, 'csjncqmr.cch': '217666'}},\n",
       "     'jbjltw': {'SIZE': 760196,\n",
       "      'dcgph': '88043',\n",
       "      'hrs': '238483',\n",
       "      'jnvwjs': '189734',\n",
       "      'pgmgbfcl.wsr': '243936'}},\n",
       "    'gdnln': '267054',\n",
       "    'hfcrzwvm': {'SIZE': 82566, 'vwc': {'SIZE': 82566, 'shc.qhj': '82566'}},\n",
       "    'rdljd': {'SIZE': 68011, 'ptw.bgd': '68011'},\n",
       "    'wpcmfbr.zgp': '319112'},\n",
       "   'gsnqjmw': {'SIZE': 236818, 'gzjdsn.wlc': '236818'},\n",
       "   'gzjdsn.wlc': '10529',\n",
       "   'hrs': '22877',\n",
       "   'hzbrgrfq': {'SIZE': 5398364,\n",
       "    'dcgph': '240924',\n",
       "    'dcjsv': {'SIZE': 367726,\n",
       "     'cmddvb': '316708',\n",
       "     'fnfjhvsp': {'SIZE': 51018,\n",
       "      'fnfjhvsp': {'SIZE': 51018,\n",
       "       'jqlcvds': {'SIZE': 51018, 'dqfbq.ggm': '51018'}}}},\n",
       "    'dsrzdjfm': {'SIZE': 3236774,\n",
       "     'csjncqmr.dmm': '262938',\n",
       "     'mwcnlvhv.szp': '125129',\n",
       "     'qbfhj.tmn': '150590',\n",
       "     'rrrzpsn': {'SIZE': 1468108,\n",
       "      'tjhzggs': {'SIZE': 1150248,\n",
       "       'gbl': '291402',\n",
       "       'hctmr': {'SIZE': 113430, 'qbfhj.tmn': '113430'},\n",
       "       'hqdmpwl': {'SIZE': 67634, 'tjhzggs': '67634'},\n",
       "       'hrs': '225075',\n",
       "       'jfbzjz': {'SIZE': 401675,\n",
       "        'nmvl.tzj': '193552',\n",
       "        'pgmgbfcl': '197076',\n",
       "        'tjhzggs': '11047'},\n",
       "       'tjhzggs.qzr': '51032'},\n",
       "      'tjhzggs.btg': '281655',\n",
       "      'tsjzf': {'SIZE': 36205, 'jwmdtdjv': '36205'}},\n",
       "     'vbdgb': '196430',\n",
       "     'vsfbwfdl': {'SIZE': 1033579,\n",
       "      'flp': '288660',\n",
       "      'jfbzjz': '185921',\n",
       "      'mqmvtddt': {'SIZE': 85529, 'bhjp.vvj': '85529'},\n",
       "      'nfbfq.dln': '124423',\n",
       "      'wzbc': {'SIZE': 349046, 'flp': '77316', 'pgmgbfcl.lcd': '271730'}}},\n",
       "    'fnfjhvsp': {'SIZE': 47666, 'mpwtvwd.fwr': '47666'},\n",
       "    'hnzm': {'SIZE': 1305723,\n",
       "     'flp': '157672',\n",
       "     'gzjdsn.wlc': '294957',\n",
       "     'lbssg': '297187',\n",
       "     'qbfhj.tmn': '24223',\n",
       "     'rdnqrgt': {'SIZE': 354235,\n",
       "      'nltjzrrr': {'SIZE': 136888,\n",
       "       'zzd': {'SIZE': 136888,\n",
       "        'flp': '47464',\n",
       "        'fnfjhvsp': {'SIZE': 89424, 'qtzfddz.btd': '89424'}}},\n",
       "      'vrb.gcd': '217347'},\n",
       "     'tld.tsd': '177449'},\n",
       "    'mqb': {'SIZE': 105537, 'tjhzggs.wns': '105537'},\n",
       "    'smpnth.bbm': '94014'},\n",
       "   'snmbwrzn': {'SIZE': 2454786,\n",
       "    'mqt': {'SIZE': 233842, 'pgmgbfcl': '233842'},\n",
       "    'nsdrn': {'SIZE': 2039897,\n",
       "     'dcgph': '67018',\n",
       "     'flp': '17296',\n",
       "     'gzjdsn.wlc': '274166',\n",
       "     'jfbzjz': '186308',\n",
       "     'lvbsrvwm.zlq': '280195',\n",
       "     'pjv': {'SIZE': 123190, 'rfbj.gmq': '123190'},\n",
       "     'thlp': {'SIZE': 1091724,\n",
       "      'flp': '141308',\n",
       "      'jfbzjz': '188164',\n",
       "      'pgmgbfcl': '299013',\n",
       "      'qbfhj.tmn': '171259',\n",
       "      'qsljb': {'SIZE': 291980, 'glcnlj.swh': '291980'}}},\n",
       "    'rjn': {'SIZE': 181047, 'fqmhpg.hpl': '181047'}},\n",
       "   'tjhzggs': {'SIZE': 8474158,\n",
       "    'csjncqmr': {'SIZE': 1372337,\n",
       "     'chpmwsfj': {'SIZE': 279480, 'tjhzggs.srw': '279480'},\n",
       "     'csjncqmr': {'SIZE': 983672,\n",
       "      'dcgph': '13716',\n",
       "      'fqb': {'SIZE': 79822, 'mmjfbvq': {'SIZE': 79822, 'flp': '79822'}},\n",
       "      'jfbzjz': {'SIZE': 707418,\n",
       "       'csjncqmr': '302531',\n",
       "       'dcgph': '164326',\n",
       "       'fnfjhvsp.rbv': '8277',\n",
       "       'jgsrgrtc': {'SIZE': 60317, 'gzjdsn.wlc': '60317'},\n",
       "       'zwdgcd': {'SIZE': 171967, 'fpls.fvd': '171967'}},\n",
       "      'msvlnt': {'SIZE': 94404, 'cnhzh': '83178', 'tjhzggs': '11226'},\n",
       "      'pgmgbfcl.qcf': '88312'},\n",
       "     'fnfjhvsp.jqg': '57088',\n",
       "     'vgcm.dpv': '52097'},\n",
       "    'fhfjvdjc.swt': '274202',\n",
       "    'fnfjhvsp': {'SIZE': 560598,\n",
       "     'dcgph': '89882',\n",
       "     'qbfhj.tmn': '212817',\n",
       "     'tjhzggs': '257899'},\n",
       "    'frbpp.wch': '97050',\n",
       "    'gnbtgdr': {'SIZE': 1805810,\n",
       "     'flltghn': {'SIZE': 111452, 'rhgfv': '111452'},\n",
       "     'fnfjhvsp': {'SIZE': 207009,\n",
       "      'lbznfb': {'SIZE': 175736, 'ljpr.cwm': '175736'},\n",
       "      'nrtrqqc.cth': '31273'},\n",
       "     'jfbzjz': {'SIZE': 237625, 'tjhzggs': '237625'},\n",
       "     'ngcsnwb': '300698',\n",
       "     'qtcqhdq': '292809',\n",
       "     'vbwjgf': {'SIZE': 375947, 'jrrw.ljb': '269242', 'pqnbrbt': '106705'},\n",
       "     'wbzcr.sgn': '280270'},\n",
       "    'jfbzjz': {'SIZE': 206302,\n",
       "     'dnn': {'SIZE': 206302, 'dcgph': '19045', 'tjhzggs.qzg': '187257'}},\n",
       "    'lpg': {'SIZE': 322720, 'fnfjhvsp.nnt': '101509', 'ldgjngjq': '221211'},\n",
       "    'pgmgbfcl': {'SIZE': 2588204,\n",
       "     'bzbdphz': {'SIZE': 2047785,\n",
       "      'ffsfqfdw': '252099',\n",
       "      'htft': '312106',\n",
       "      'jfbvz.znw': '298880',\n",
       "      'lrwccthr': '135204',\n",
       "      'zhbqf': {'SIZE': 941352,\n",
       "       'gtw': {'SIZE': 643330,\n",
       "        'csjncqmr': {'SIZE': 551089, 'flp': '278962', 'tjhzggs': '272127'},\n",
       "        'rpzjg': {'SIZE': 92241, 'flp': '92241'}},\n",
       "       'svpgsrgj.ljz': '298022'},\n",
       "      'zsbbfhz.drr': '108144'},\n",
       "     'flp': '37920',\n",
       "     'wpsm': {'SIZE': 502499,\n",
       "      'flp': '15936',\n",
       "      'qbfhj.tmn': '241514',\n",
       "      'rjgwzlq.qrw': '245049'}},\n",
       "    'twcdfdcv': {'SIZE': 333589,\n",
       "     'bjm': '140758',\n",
       "     'dcgph': '78772',\n",
       "     'mqsgrc.qcb': '114059'},\n",
       "    'wzd': {'SIZE': 636560,\n",
       "     'fnfjhvsp': {'SIZE': 193288, 'csjncqmr.jfn': '72702', 'dcgph': '120586'},\n",
       "     'mcbnp': {'SIZE': 443272,\n",
       "      'fnfjhvsp.frc': '12494',\n",
       "      'gsv': '182092',\n",
       "      'pdbvmblc.vng': '17859',\n",
       "      'pfbdf': '116984',\n",
       "      'prshrmg.srm': '113843'}},\n",
       "    'zllcflrn': {'SIZE': 276786, 'flp': '30966', 'jfbzjz.rnd': '245820'}},\n",
       "   'tzhsjsc': '6773'},\n",
       "  'hmjnnjjj': {'SIZE': 602560,\n",
       "   'dcgph': '134366',\n",
       "   'dtsb': '212399',\n",
       "   'zhbcjtr': '255795'},\n",
       "  'hrs': '301788',\n",
       "  'lgmld': {'SIZE': 358246,\n",
       "   'pgmgbfcl': '55248',\n",
       "   'pgmgbfcl.nbg': '62265',\n",
       "   'zhmff': '240733'},\n",
       "  'pgmgbfcl': {'SIZE': 4363998,\n",
       "   'fnfjhvsp': '232717',\n",
       "   'gtcjbwpz.lmz': '219581',\n",
       "   'gzjdsn.wlc': '47399',\n",
       "   'hjqf': '22814',\n",
       "   'hrs': '296672',\n",
       "   'nrzf': {'SIZE': 113574,\n",
       "    'dcgph': '18406',\n",
       "    'mhm': {'SIZE': 95168, 'pgmgbfcl.hqv': '95168'}},\n",
       "   'wqgcmnpp': {'SIZE': 1667260,\n",
       "    'csjncqmr': {'SIZE': 307371, 'cdptrw.rfm': '307371'},\n",
       "    'dvcd.tnh': '189963',\n",
       "    'gzqrt': {'SIZE': 173397, 'pwsqss': {'SIZE': 173397, 'flp': '173397'}},\n",
       "    'njffft': {'SIZE': 410127,\n",
       "     'bzhzg': {'SIZE': 213821, 'pgmgbfcl': '213821'},\n",
       "     'tjhzggs': {'SIZE': 196306,\n",
       "      'szvfzgj': {'SIZE': 196306, 'tjhzggs.hjh': '196306'}}},\n",
       "    'qvqp': {'SIZE': 367410,\n",
       "     'pgmgbfcl': {'SIZE': 367410, 'flp': '114456', 'pgmgbfcl': '252954'}},\n",
       "    'tjhzggs': '6981',\n",
       "    'wgfnlfsd': {'SIZE': 212011, 'gzjdsn.wlc': '212011'}},\n",
       "   'wwvmdjz': {'SIZE': 1158686,\n",
       "    'dcgph': '70022',\n",
       "    'hjgvstp': {'SIZE': 24056, 'tdjwdw': '24056'},\n",
       "    'jhgb': {'SIZE': 222897, 'gzjdsn.wlc': '90571', 'rrvfml.dms': '132326'},\n",
       "    'qbfhj.tmn': '276853',\n",
       "    'qdqswjjd.wnn': '242756',\n",
       "    'tjhzggs': {'SIZE': 29139, 'dmrsz.qhc': '29139'},\n",
       "    'wcgmgmz.shb': '292963'},\n",
       "   'zlhv': {'SIZE': 605295, 'dcgph': '315120', 'pgvlcvpb': '290175'}},\n",
       "  'qzsbm.zdb': '76771',\n",
       "  'scbgn': {'SIZE': 258300, 'bcchv.qsn': '258300'},\n",
       "  'vhrlgcf': '234764'},\n",
       " 'wrsjr': {'SIZE': 3450942,\n",
       "  'csjncqmr': {'SIZE': 148619, 'qbfhj.tmn': '148619'},\n",
       "  'jfbzjz': {'SIZE': 1885776,\n",
       "   'csjncqmr': {'SIZE': 559440,\n",
       "    'czmlfmf': {'SIZE': 41339,\n",
       "     'hnpjvq': {'SIZE': 41339, 'fnfjhvsp.wnv': '41339'}},\n",
       "    'flp': '137365',\n",
       "    'hggbs': {'SIZE': 273367, 'qbfhj.tmn': '273367'},\n",
       "    'mpgm.lbl': '107369'},\n",
       "   'flrhpzt': {'SIZE': 262982, 'fwb': '200923', 'hrs': '62059'},\n",
       "   'fnfjhvsp': {'SIZE': 320061,\n",
       "    'gdnmpgn': {'SIZE': 64024, 'jmww.gbb': '64024'},\n",
       "    'hrs': '256037'},\n",
       "   'gpwv': {'SIZE': 159155, 'hrs': '159155'},\n",
       "   'lwrtc': {'SIZE': 584138,\n",
       "    'nzvqj.dsv': '150299',\n",
       "    'pgmgbfcl.lrt': '129702',\n",
       "    'zvgb': {'SIZE': 304137, 'hrs': '304137'}}},\n",
       "  'nmfmqb': {'SIZE': 439769, 'jfbzjz': '139823', 'nqqscdn.wsw': '299946'},\n",
       "  'svgtrz': {'SIZE': 391773,\n",
       "   'jdlvtm': {'SIZE': 267972, 'tbgcnf.pqz': '267972'},\n",
       "   'phhrgrbs': '123801'},\n",
       "  'zjvhmd': {'SIZE': 585005, 'csjncqmr.tfj': '287427', 'hhhp.jvt': '297578'}}}"
      ]
     },
     "execution_count": 80,
     "metadata": {},
     "output_type": "execute_result"
    }
   ],
   "source": [
    "tree"
   ]
  },
  {
   "cell_type": "code",
   "execution_count": 81,
   "id": "c4e9d098-e64c-45b3-8d98-26958493f7ba",
   "metadata": {
    "execution": {
     "iopub.execute_input": "2022-12-09T10:16:39.461359Z",
     "iopub.status.busy": "2022-12-09T10:16:39.458010Z",
     "iopub.status.idle": "2022-12-09T10:16:39.473847Z",
     "shell.execute_reply": "2022-12-09T10:16:39.473136Z",
     "shell.execute_reply.started": "2022-12-09T10:16:39.461252Z"
    }
   },
   "outputs": [
    {
     "name": "stdout",
     "output_type": "stream",
     "text": [
      "46552309\n"
     ]
    }
   ],
   "source": [
    "total_tree_size = 0\n",
    "for v in tree.values():\n",
    "    if isinstance(v,dict):\n",
    "        total_tree_size += v[\"SIZE\"]\n",
    "    elif isinstance(v,int):\n",
    "        total_tree_size+=v\n",
    "    else:\n",
    "        print(\"Something wrong\")\n",
    "        break\n",
    "print(total_tree_size)"
   ]
  },
  {
   "cell_type": "code",
   "execution_count": 82,
   "id": "a4c7c4ce-6071-47ef-bc6c-36e57246730d",
   "metadata": {
    "execution": {
     "iopub.execute_input": "2022-12-09T10:17:58.591187Z",
     "iopub.status.busy": "2022-12-09T10:17:58.590713Z",
     "iopub.status.idle": "2022-12-09T10:17:58.596928Z",
     "shell.execute_reply": "2022-12-09T10:17:58.596113Z",
     "shell.execute_reply.started": "2022-12-09T10:17:58.591158Z"
    }
   },
   "outputs": [],
   "source": [
    "NEEDED_SIZE = 30000000\n",
    "TOTAL_SIZE = 70000000\n",
    "REMAINING_SPACE = TOTAL_SIZE - total_tree_size"
   ]
  },
  {
   "cell_type": "code",
   "execution_count": 83,
   "id": "244e25e1-7895-4b93-88ba-dfadc988c625",
   "metadata": {
    "execution": {
     "iopub.execute_input": "2022-12-09T10:18:01.864074Z",
     "iopub.status.busy": "2022-12-09T10:18:01.863564Z",
     "iopub.status.idle": "2022-12-09T10:18:01.871474Z",
     "shell.execute_reply": "2022-12-09T10:18:01.870437Z",
     "shell.execute_reply.started": "2022-12-09T10:18:01.864050Z"
    }
   },
   "outputs": [
    {
     "data": {
      "text/plain": [
       "23447691"
      ]
     },
     "execution_count": 83,
     "metadata": {},
     "output_type": "execute_result"
    }
   ],
   "source": [
    "REMAINING_SPACE"
   ]
  },
  {
   "cell_type": "code",
   "execution_count": 84,
   "id": "27fd2378-5bd3-4cf1-bc6f-3eef317dbc1d",
   "metadata": {
    "execution": {
     "iopub.execute_input": "2022-12-09T10:18:27.650339Z",
     "iopub.status.busy": "2022-12-09T10:18:27.649369Z",
     "iopub.status.idle": "2022-12-09T10:18:27.661203Z",
     "shell.execute_reply": "2022-12-09T10:18:27.659585Z",
     "shell.execute_reply.started": "2022-12-09T10:18:27.650289Z"
    }
   },
   "outputs": [],
   "source": [
    "SIZE_THRESHOLD = NEEDED_SIZE-REMAINING_SPACE"
   ]
  },
  {
   "cell_type": "code",
   "execution_count": 85,
   "id": "28c44baa-2604-4e3b-b1bb-4d82f9461434",
   "metadata": {
    "execution": {
     "iopub.execute_input": "2022-12-09T10:18:31.031617Z",
     "iopub.status.busy": "2022-12-09T10:18:31.031209Z",
     "iopub.status.idle": "2022-12-09T10:18:31.040215Z",
     "shell.execute_reply": "2022-12-09T10:18:31.039550Z",
     "shell.execute_reply.started": "2022-12-09T10:18:31.031591Z"
    }
   },
   "outputs": [
    {
     "data": {
      "text/plain": [
       "6552309"
      ]
     },
     "execution_count": 85,
     "metadata": {},
     "output_type": "execute_result"
    }
   ],
   "source": [
    "SIZE_THRESHOLD"
   ]
  },
  {
   "cell_type": "code",
   "execution_count": 86,
   "id": "b7b89d7a-9272-49a8-9282-673aab3e3dbf",
   "metadata": {
    "execution": {
     "iopub.execute_input": "2022-12-09T10:19:05.028740Z",
     "iopub.status.busy": "2022-12-09T10:19:05.028056Z",
     "iopub.status.idle": "2022-12-09T10:19:05.038141Z",
     "shell.execute_reply": "2022-12-09T10:19:05.037401Z",
     "shell.execute_reply.started": "2022-12-09T10:19:05.028692Z"
    },
    "tags": []
   },
   "outputs": [],
   "source": [
    "sizes_upper_than_treshold = []"
   ]
  },
  {
   "cell_type": "code",
   "execution_count": 87,
   "id": "ce63bf12-e7af-4987-9e59-8302eb33a57f",
   "metadata": {
    "execution": {
     "iopub.execute_input": "2022-12-09T10:19:05.406830Z",
     "iopub.status.busy": "2022-12-09T10:19:05.406049Z",
     "iopub.status.idle": "2022-12-09T10:19:05.419156Z",
     "shell.execute_reply": "2022-12-09T10:19:05.418628Z",
     "shell.execute_reply.started": "2022-12-09T10:19:05.406794Z"
    },
    "tags": []
   },
   "outputs": [],
   "source": [
    "def search(tree):\n",
    "    \"\"\"Recursive funtion that search the directories with a size below 100000\"\"\"\n",
    "    for subtree in tree.values():\n",
    "        if isinstance(subtree,dict):\n",
    "            if subtree[\"SIZE\"]>SIZE_THRESHOLD:\n",
    "                sizes_upper_than_treshold.append(subtree[\"SIZE\"])\n",
    "            search(subtree)\n",
    "        else:\n",
    "            continue"
   ]
  },
  {
   "cell_type": "code",
   "execution_count": 88,
   "id": "dc2af9ba-9774-4674-9b3a-d39d7cf6ce96",
   "metadata": {
    "execution": {
     "iopub.execute_input": "2022-12-09T10:19:08.026133Z",
     "iopub.status.busy": "2022-12-09T10:19:08.025229Z",
     "iopub.status.idle": "2022-12-09T10:19:08.036234Z",
     "shell.execute_reply": "2022-12-09T10:19:08.035114Z",
     "shell.execute_reply.started": "2022-12-09T10:19:08.026067Z"
    },
    "tags": []
   },
   "outputs": [],
   "source": [
    "search(tree)"
   ]
  },
  {
   "cell_type": "code",
   "execution_count": 91,
   "id": "28e2e25e-ed69-4f87-b1a2-a6d75d25be84",
   "metadata": {
    "execution": {
     "iopub.execute_input": "2022-12-09T10:19:32.578520Z",
     "iopub.status.busy": "2022-12-09T10:19:32.577844Z",
     "iopub.status.idle": "2022-12-09T10:19:32.586032Z",
     "shell.execute_reply": "2022-12-09T10:19:32.584808Z",
     "shell.execute_reply.started": "2022-12-09T10:19:32.578465Z"
    },
    "scrolled": true,
    "tags": []
   },
   "outputs": [],
   "source": [
    "sizes_upper_than_treshold.sort()"
   ]
  },
  {
   "cell_type": "code",
   "execution_count": 92,
   "id": "7d1818bd-701b-4a4d-8fd9-3baabebdfe30",
   "metadata": {
    "execution": {
     "iopub.execute_input": "2022-12-09T10:19:36.340179Z",
     "iopub.status.busy": "2022-12-09T10:19:36.339744Z",
     "iopub.status.idle": "2022-12-09T10:19:36.355357Z",
     "shell.execute_reply": "2022-12-09T10:19:36.348512Z",
     "shell.execute_reply.started": "2022-12-09T10:19:36.340152Z"
    },
    "tags": []
   },
   "outputs": [
    {
     "data": {
      "text/plain": [
       "[8474158, 11282773, 12700902, 22488591, 29001698]"
      ]
     },
     "execution_count": 92,
     "metadata": {},
     "output_type": "execute_result"
    }
   ],
   "source": [
    "sizes_upper_than_treshold"
   ]
  },
  {
   "cell_type": "code",
   "execution_count": null,
   "id": "ca5e01d5-3e56-41e8-922b-17b326742547",
   "metadata": {},
   "outputs": [],
   "source": []
  }
 ],
 "metadata": {
  "kernelspec": {
   "display_name": "Python [conda env:analytics]",
   "language": "python",
   "name": "conda-env-analytics-py"
  },
  "language_info": {
   "codemirror_mode": {
    "name": "ipython",
    "version": 3
   },
   "file_extension": ".py",
   "mimetype": "text/x-python",
   "name": "python",
   "nbconvert_exporter": "python",
   "pygments_lexer": "ipython3",
   "version": "3.10.6"
  }
 },
 "nbformat": 4,
 "nbformat_minor": 5
}
