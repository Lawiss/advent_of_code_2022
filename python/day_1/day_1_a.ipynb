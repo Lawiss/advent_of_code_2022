{
 "cells": [
  {
   "cell_type": "code",
   "execution_count": 33,
   "id": "d8119b66-2964-48ce-971f-a4b4973634d2",
   "metadata": {
    "execution": {
     "iopub.execute_input": "2022-12-02T13:04:04.937359Z",
     "iopub.status.busy": "2022-12-02T13:04:04.928008Z",
     "iopub.status.idle": "2022-12-02T13:04:04.946671Z",
     "shell.execute_reply": "2022-12-02T13:04:04.945960Z",
     "shell.execute_reply.started": "2022-12-02T13:04:04.937258Z"
    },
    "scrolled": true,
    "tags": []
   },
   "outputs": [
    {
     "name": "stdout",
     "output_type": "stream",
     "text": [
      "71924\n"
     ]
    }
   ],
   "source": [
    "top_cal = 0\n",
    "with open(\"input\",\"r\") as f:\n",
    "    cal_carried = 0\n",
    "    for line in f:\n",
    "        if (not line) or (line == \"\\n\"):\n",
    "            if cal_carried > top_cal:\n",
    "                top_cal = cal_carried\n",
    "            cal_carried = 0\n",
    "        else:\n",
    "            cal_carried += int(line)\n",
    "print(top_cal)"
   ]
  },
  {
   "cell_type": "code",
   "execution_count": null,
   "id": "22a9fd80-c107-4d49-8341-d37a25f7b5ba",
   "metadata": {},
   "outputs": [],
   "source": []
  }
 ],
 "metadata": {
  "kernelspec": {
   "display_name": "Python [conda env:analytics]",
   "language": "python",
   "name": "conda-env-analytics-py"
  },
  "language_info": {
   "codemirror_mode": {
    "name": "ipython",
    "version": 3
   },
   "file_extension": ".py",
   "mimetype": "text/x-python",
   "name": "python",
   "nbconvert_exporter": "python",
   "pygments_lexer": "ipython3",
   "version": "3.10.6"
  }
 },
 "nbformat": 4,
 "nbformat_minor": 5
}
