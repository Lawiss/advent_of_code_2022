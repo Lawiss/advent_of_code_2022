{
 "cells": [
  {
   "cell_type": "code",
   "execution_count": 14,
   "id": "5aeee131-d04a-4b8e-85ac-f4ffcc9527e5",
   "metadata": {
    "execution": {
     "iopub.execute_input": "2022-12-02T16:09:33.500484Z",
     "iopub.status.busy": "2022-12-02T16:09:33.499453Z",
     "iopub.status.idle": "2022-12-02T16:09:36.330567Z",
     "shell.execute_reply": "2022-12-02T16:09:36.330282Z",
     "shell.execute_reply.started": "2022-12-02T16:09:33.500432Z"
    },
    "tags": []
   },
   "outputs": [
    {
     "name": "stdout",
     "output_type": "stream",
     "text": [
      "344 µs ± 6.83 µs per loop (mean ± std. dev. of 7 runs, 1,000 loops each)\n"
     ]
    }
   ],
   "source": [
    "%%timeit\n",
    "top_3 = [0,0,0]\n",
    "with open(\"input\",\"r\") as f:\n",
    "    cal_carried = 0\n",
    "    for line in f:\n",
    "        if (not line) or (line == \"\\n\"):\n",
    "            if any(cal_carried > e for e in top_3):\n",
    "                top_3[top_3.index(min(top_3))] = cal_carried\n",
    "            cal_carried = 0\n",
    "        else:\n",
    "            cal_carried += int(line)"
   ]
  },
  {
   "cell_type": "code",
   "execution_count": 15,
   "id": "5cf356f9-f686-4e87-884b-2dabe5406fe0",
   "metadata": {
    "execution": {
     "iopub.execute_input": "2022-12-02T16:09:51.288297Z",
     "iopub.status.busy": "2022-12-02T16:09:51.287398Z",
     "iopub.status.idle": "2022-12-02T16:09:51.295577Z",
     "shell.execute_reply": "2022-12-02T16:09:51.293906Z",
     "shell.execute_reply.started": "2022-12-02T16:09:51.288266Z"
    },
    "tags": []
   },
   "outputs": [
    {
     "data": {
      "text/plain": [
       "[68589, 69893, 71924]"
      ]
     },
     "execution_count": 15,
     "metadata": {},
     "output_type": "execute_result"
    }
   ],
   "source": [
    "top_3"
   ]
  },
  {
   "cell_type": "code",
   "execution_count": 16,
   "id": "ee7c70cd-4e6c-4114-adc9-68cc078792e4",
   "metadata": {
    "execution": {
     "iopub.execute_input": "2022-12-02T16:09:51.608409Z",
     "iopub.status.busy": "2022-12-02T16:09:51.607889Z",
     "iopub.status.idle": "2022-12-02T16:09:51.624293Z",
     "shell.execute_reply": "2022-12-02T16:09:51.622907Z",
     "shell.execute_reply.started": "2022-12-02T16:09:51.608385Z"
    },
    "tags": []
   },
   "outputs": [
    {
     "data": {
      "text/plain": [
       "210406"
      ]
     },
     "execution_count": 16,
     "metadata": {},
     "output_type": "execute_result"
    }
   ],
   "source": [
    "sum(top_3)"
   ]
  }
 ],
 "metadata": {
  "kernelspec": {
   "display_name": "Python [conda env:analytics]",
   "language": "python",
   "name": "conda-env-analytics-py"
  },
  "language_info": {
   "codemirror_mode": {
    "name": "ipython",
    "version": 3
   },
   "file_extension": ".py",
   "mimetype": "text/x-python",
   "name": "python",
   "nbconvert_exporter": "python",
   "pygments_lexer": "ipython3",
   "version": "3.10.6"
  }
 },
 "nbformat": 4,
 "nbformat_minor": 5
}
