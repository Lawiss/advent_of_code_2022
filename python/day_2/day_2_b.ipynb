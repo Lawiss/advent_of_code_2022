{
 "cells": [
  {
   "cell_type": "code",
   "execution_count": 6,
   "id": "5a14acc0-c636-4929-a173-5e9a58f30b9c",
   "metadata": {
    "execution": {
     "iopub.execute_input": "2022-12-02T22:47:03.102550Z",
     "iopub.status.busy": "2022-12-02T22:47:03.100680Z",
     "iopub.status.idle": "2022-12-02T22:47:03.115617Z",
     "shell.execute_reply": "2022-12-02T22:47:03.114093Z",
     "shell.execute_reply.started": "2022-12-02T22:47:03.102455Z"
    },
    "tags": []
   },
   "outputs": [],
   "source": [
    "possibilities = {\n",
    "    \"A X\": 1 + 3,\n",
    "    \"A Y\": 2 + 6,\n",
    "    \"A Z\": 3 + 0,\n",
    "    \"B X\": 1 + 0,\n",
    "    \"B Y\": 2 + 3,\n",
    "    \"B Z\": 3 + 6,\n",
    "    \"C X\": 1 + 6,\n",
    "    \"C Y\": 2 + 0,\n",
    "    \"C Z\": 3 + 3,\n",
    "}"
   ]
  },
  {
   "cell_type": "code",
   "execution_count": 7,
   "id": "b597ff85-fa4c-404b-8853-55a7c9aa1898",
   "metadata": {
    "execution": {
     "iopub.execute_input": "2022-12-02T22:47:03.360502Z",
     "iopub.status.busy": "2022-12-02T22:47:03.359338Z",
     "iopub.status.idle": "2022-12-02T22:47:03.371741Z",
     "shell.execute_reply": "2022-12-02T22:47:03.370652Z",
     "shell.execute_reply.started": "2022-12-02T22:47:03.360462Z"
    },
    "tags": []
   },
   "outputs": [],
   "source": [
    "total_points = 0\n",
    "with open(\"input\", \"r\") as f:\n",
    "    for line in f:\n",
    "        total_points += possibilities[line.strip()]"
   ]
  },
  {
   "cell_type": "code",
   "execution_count": 8,
   "id": "044af9fa-6620-468a-9ba3-1cf34f6ef455",
   "metadata": {
    "execution": {
     "iopub.execute_input": "2022-12-02T22:47:03.603975Z",
     "iopub.status.busy": "2022-12-02T22:47:03.603589Z",
     "iopub.status.idle": "2022-12-02T22:47:03.613668Z",
     "shell.execute_reply": "2022-12-02T22:47:03.612948Z",
     "shell.execute_reply.started": "2022-12-02T22:47:03.603951Z"
    },
    "tags": []
   },
   "outputs": [
    {
     "data": {
      "text/plain": [
       "10595"
      ]
     },
     "execution_count": 8,
     "metadata": {},
     "output_type": "execute_result"
    }
   ],
   "source": [
    "total_points"
   ]
  },
  {
   "cell_type": "code",
   "execution_count": null,
   "id": "accb1442-5619-4615-835b-26993d8db05f",
   "metadata": {},
   "outputs": [],
   "source": []
  }
 ],
 "metadata": {
  "kernelspec": {
   "display_name": "Python [conda env:analytics]",
   "language": "python",
   "name": "conda-env-analytics-py"
  },
  "language_info": {
   "codemirror_mode": {
    "name": "ipython",
    "version": 3
   },
   "file_extension": ".py",
   "mimetype": "text/x-python",
   "name": "python",
   "nbconvert_exporter": "python",
   "pygments_lexer": "ipython3",
   "version": "3.10.6"
  }
 },
 "nbformat": 4,
 "nbformat_minor": 5
}
