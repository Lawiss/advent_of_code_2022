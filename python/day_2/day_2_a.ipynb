{
 "cells": [
  {
   "cell_type": "markdown",
   "id": "5e7ad509-1ba4-4a1b-b948-3da66065fb67",
   "metadata": {},
   "source": [
    "- A = pierre = 1\n",
    "- B = papier = 2\n",
    "- C = ciseaux = 3\n",
    "\n",
    "- X : perdre\n",
    "- Y : égalité\n",
    "- Z : gagner"
   ]
  },
  {
   "cell_type": "code",
   "execution_count": 12,
   "id": "5a14acc0-c636-4929-a173-5e9a58f30b9c",
   "metadata": {
    "execution": {
     "iopub.execute_input": "2022-12-02T23:13:32.455940Z",
     "iopub.status.busy": "2022-12-02T23:13:32.454567Z",
     "iopub.status.idle": "2022-12-02T23:13:32.470522Z",
     "shell.execute_reply": "2022-12-02T23:13:32.468178Z",
     "shell.execute_reply.started": "2022-12-02T23:13:32.455877Z"
    },
    "tags": []
   },
   "outputs": [],
   "source": [
    "choices = {\n",
    "    \"A\": {\"X\": 0 + 3, \"Y\": 3 + 1, \"Z\": 6 + 2},\n",
    "    \"B\": {\"X\": 0 + 1, \"Y\": 3 + 2, \"Z\": 6 + 3},\n",
    "    \"C\": {\"X\": 0 + 2, \"Y\": 3 + 3, \"Z\": 6 + 1},\n",
    "}"
   ]
  },
  {
   "cell_type": "code",
   "execution_count": 13,
   "id": "b597ff85-fa4c-404b-8853-55a7c9aa1898",
   "metadata": {
    "execution": {
     "iopub.execute_input": "2022-12-02T23:13:32.743452Z",
     "iopub.status.busy": "2022-12-02T23:13:32.743005Z",
     "iopub.status.idle": "2022-12-02T23:13:32.753890Z",
     "shell.execute_reply": "2022-12-02T23:13:32.752972Z",
     "shell.execute_reply.started": "2022-12-02T23:13:32.743427Z"
    },
    "tags": []
   },
   "outputs": [],
   "source": [
    "total_points = 0\n",
    "with open(\"input\", \"r\") as f:\n",
    "    for line in f:\n",
    "        game = line.split()\n",
    "        total_points += choices[game[0]][game[1]]"
   ]
  },
  {
   "cell_type": "code",
   "execution_count": 14,
   "id": "044af9fa-6620-468a-9ba3-1cf34f6ef455",
   "metadata": {
    "execution": {
     "iopub.execute_input": "2022-12-02T23:13:33.196604Z",
     "iopub.status.busy": "2022-12-02T23:13:33.195702Z",
     "iopub.status.idle": "2022-12-02T23:13:33.208854Z",
     "shell.execute_reply": "2022-12-02T23:13:33.207818Z",
     "shell.execute_reply.started": "2022-12-02T23:13:33.196571Z"
    },
    "tags": []
   },
   "outputs": [
    {
     "data": {
      "text/plain": [
       "9541"
      ]
     },
     "execution_count": 14,
     "metadata": {},
     "output_type": "execute_result"
    }
   ],
   "source": [
    "total_points"
   ]
  },
  {
   "cell_type": "code",
   "execution_count": null,
   "id": "accb1442-5619-4615-835b-26993d8db05f",
   "metadata": {},
   "outputs": [],
   "source": []
  }
 ],
 "metadata": {
  "kernelspec": {
   "display_name": "Python [conda env:analytics]",
   "language": "python",
   "name": "conda-env-analytics-py"
  },
  "language_info": {
   "codemirror_mode": {
    "name": "ipython",
    "version": 3
   },
   "file_extension": ".py",
   "mimetype": "text/x-python",
   "name": "python",
   "nbconvert_exporter": "python",
   "pygments_lexer": "ipython3",
   "version": "3.10.6"
  }
 },
 "nbformat": 4,
 "nbformat_minor": 5
}
