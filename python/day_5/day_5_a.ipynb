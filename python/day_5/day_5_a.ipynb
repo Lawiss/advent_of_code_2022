{
 "cells": [
  {
   "cell_type": "code",
   "execution_count": 70,
   "id": "6f478908-9133-4934-a46f-f2c191a5c184",
   "metadata": {
    "execution": {
     "iopub.execute_input": "2022-12-05T13:34:19.862584Z",
     "iopub.status.busy": "2022-12-05T13:34:19.860956Z",
     "iopub.status.idle": "2022-12-05T13:34:19.875983Z",
     "shell.execute_reply": "2022-12-05T13:34:19.873742Z",
     "shell.execute_reply.started": "2022-12-05T13:34:19.862518Z"
    },
    "tags": []
   },
   "outputs": [],
   "source": [
    "from typing import List"
   ]
  },
  {
   "cell_type": "code",
   "execution_count": 71,
   "id": "f34cfca6-7fca-481e-873a-cf03fff14ffa",
   "metadata": {
    "execution": {
     "iopub.execute_input": "2022-12-05T13:34:20.060311Z",
     "iopub.status.busy": "2022-12-05T13:34:20.059453Z",
     "iopub.status.idle": "2022-12-05T13:34:20.068984Z",
     "shell.execute_reply": "2022-12-05T13:34:20.068216Z",
     "shell.execute_reply.started": "2022-12-05T13:34:20.060273Z"
    },
    "tags": []
   },
   "outputs": [],
   "source": [
    "lines = None\n",
    "with open(\"input\",\"r\") as f:\n",
    "    lines = f.readlines()\n",
    "lines = [e.replace(\"\\n\",\"\") for e in lines]"
   ]
  },
  {
   "cell_type": "code",
   "execution_count": 72,
   "id": "e4174ed2-9bb1-4b5d-8465-d5ebbd5f6adf",
   "metadata": {
    "execution": {
     "iopub.execute_input": "2022-12-05T13:34:20.299887Z",
     "iopub.status.busy": "2022-12-05T13:34:20.299455Z",
     "iopub.status.idle": "2022-12-05T13:34:20.330128Z",
     "shell.execute_reply": "2022-12-05T13:34:20.328493Z",
     "shell.execute_reply.started": "2022-12-05T13:34:20.299859Z"
    },
    "tags": []
   },
   "outputs": [],
   "source": [
    "def init_stacks(stack_init = List[str]):\n",
    "    reverse_track_init = stack_init[::-1]\n",
    "    \n",
    "    num_stacks = len(reverse_track_init[0].split(\" \"))\n",
    "    \n",
    "    stacks = [[] for _ in range(num_stacks)]\n",
    "    \n",
    "    for line in reverse_track_init:\n",
    "        for i in (range(0,len(line),4)):\n",
    "            if line[i:i+3].strip():\n",
    "                stacks[i//4].append(line[i:i+3])\n",
    "    return stacks"
   ]
  },
  {
   "cell_type": "code",
   "execution_count": 73,
   "id": "e456c826-49ea-48ef-8dc4-a0e42619c02c",
   "metadata": {
    "execution": {
     "iopub.execute_input": "2022-12-05T13:34:20.909421Z",
     "iopub.status.busy": "2022-12-05T13:34:20.909028Z",
     "iopub.status.idle": "2022-12-05T13:34:20.921951Z",
     "shell.execute_reply": "2022-12-05T13:34:20.920330Z",
     "shell.execute_reply.started": "2022-12-05T13:34:20.909396Z"
    },
    "scrolled": true,
    "tags": []
   },
   "outputs": [],
   "source": [
    "stacks = init_stacks(lines[:8])\n",
    "\n",
    "moves = lines[10:]\n",
    "\n",
    "for move in moves:\n",
    "    move = move.split(\" \")\n",
    "    quantity_to_move = int(move[1])\n",
    "    start_stack = int(move[3])\n",
    "    end_stack = int(move[5])\n",
    "    \n",
    "    temp_stack = []\n",
    "    for i in range(quantity_to_move):\n",
    "        temp_stack.append(stacks[start_stack-1].pop())\n",
    "    stacks[end_stack-1].extend(temp_stack[::-1])"
   ]
  },
  {
   "cell_type": "code",
   "execution_count": 74,
   "id": "f012cb98-cd1e-435d-a894-c74e0535aeb9",
   "metadata": {
    "execution": {
     "iopub.execute_input": "2022-12-05T13:34:22.651857Z",
     "iopub.status.busy": "2022-12-05T13:34:22.651466Z",
     "iopub.status.idle": "2022-12-05T13:34:22.660164Z",
     "shell.execute_reply": "2022-12-05T13:34:22.659471Z",
     "shell.execute_reply.started": "2022-12-05T13:34:22.651832Z"
    },
    "tags": []
   },
   "outputs": [
    {
     "data": {
      "text/plain": [
       "[['[Q]'],\n",
       " ['[L]'],\n",
       " ['[M]', '[H]', '[R]', '[F]'],\n",
       " ['[S]', '[T]', '[M]', '[J]', '[Q]'],\n",
       " ['[D]', '[S]', '[Q]', '[N]', '[V]', '[T]', '[H]', '[W]', '[D]'],\n",
       " ['[D]', '[J]', '[N]', '[R]', '[H]', '[B]', '[B]', '[F]', '[T]', '[B]'],\n",
       " ['[N]', '[B]'],\n",
       " ['[J]',\n",
       "  '[P]',\n",
       "  '[Q]',\n",
       "  '[Q]',\n",
       "  '[N]',\n",
       "  '[S]',\n",
       "  '[W]',\n",
       "  '[R]',\n",
       "  '[V]',\n",
       "  '[V]',\n",
       "  '[T]',\n",
       "  '[D]',\n",
       "  '[H]'],\n",
       " ['[R]', '[V]', '[G]', '[D]', '[B]', '[Z]', '[H]', '[N]', '[N]', '[B]', '[M]']]"
      ]
     },
     "execution_count": 74,
     "metadata": {},
     "output_type": "execute_result"
    }
   ],
   "source": [
    "stacks"
   ]
  },
  {
   "cell_type": "code",
   "execution_count": 75,
   "id": "e59e1134-f70b-4b90-b5ce-29ba53a8a045",
   "metadata": {
    "execution": {
     "iopub.execute_input": "2022-12-05T13:34:24.907381Z",
     "iopub.status.busy": "2022-12-05T13:34:24.906134Z",
     "iopub.status.idle": "2022-12-05T13:34:24.912434Z",
     "shell.execute_reply": "2022-12-05T13:34:24.911402Z",
     "shell.execute_reply.started": "2022-12-05T13:34:24.907350Z"
    },
    "tags": []
   },
   "outputs": [],
   "source": [
    "import re"
   ]
  },
  {
   "cell_type": "code",
   "execution_count": 76,
   "id": "81adec9a-9de5-4fe2-bf76-9d4aaefac45b",
   "metadata": {
    "execution": {
     "iopub.execute_input": "2022-12-05T13:34:25.121013Z",
     "iopub.status.busy": "2022-12-05T13:34:25.120176Z",
     "iopub.status.idle": "2022-12-05T13:34:25.126710Z",
     "shell.execute_reply": "2022-12-05T13:34:25.125998Z",
     "shell.execute_reply.started": "2022-12-05T13:34:25.120982Z"
    },
    "tags": []
   },
   "outputs": [],
   "source": [
    "last_letters = [re.sub(r\"\\[|]\",\"\",e[-1]) for e in stacks]    "
   ]
  },
  {
   "cell_type": "code",
   "execution_count": 77,
   "id": "e0db1d2d-2588-4f7e-92d8-31f78ac53d81",
   "metadata": {
    "execution": {
     "iopub.execute_input": "2022-12-05T13:34:25.315419Z",
     "iopub.status.busy": "2022-12-05T13:34:25.314454Z",
     "iopub.status.idle": "2022-12-05T13:34:25.321880Z",
     "shell.execute_reply": "2022-12-05T13:34:25.320514Z",
     "shell.execute_reply.started": "2022-12-05T13:34:25.315386Z"
    },
    "tags": []
   },
   "outputs": [
    {
     "data": {
      "text/plain": [
       "'QLFQDBBHM'"
      ]
     },
     "execution_count": 77,
     "metadata": {},
     "output_type": "execute_result"
    }
   ],
   "source": [
    "\"\".join(last_letters)"
   ]
  },
  {
   "cell_type": "code",
   "execution_count": null,
   "id": "6754b09f-55a7-48ad-a316-97dac6760092",
   "metadata": {},
   "outputs": [],
   "source": []
  }
 ],
 "metadata": {
  "kernelspec": {
   "display_name": "Python [conda env:analytics]",
   "language": "python",
   "name": "conda-env-analytics-py"
  },
  "language_info": {
   "codemirror_mode": {
    "name": "ipython",
    "version": 3
   },
   "file_extension": ".py",
   "mimetype": "text/x-python",
   "name": "python",
   "nbconvert_exporter": "python",
   "pygments_lexer": "ipython3",
   "version": "3.10.6"
  }
 },
 "nbformat": 4,
 "nbformat_minor": 5
}
