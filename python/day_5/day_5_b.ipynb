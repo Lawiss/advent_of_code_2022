{
 "cells": [
  {
   "cell_type": "code",
   "execution_count": 7,
   "id": "6f478908-9133-4934-a46f-f2c191a5c184",
   "metadata": {
    "execution": {
     "iopub.execute_input": "2022-12-05T12:54:36.021500Z",
     "iopub.status.busy": "2022-12-05T12:54:36.020988Z",
     "iopub.status.idle": "2022-12-05T12:54:36.025054Z",
     "shell.execute_reply": "2022-12-05T12:54:36.024557Z",
     "shell.execute_reply.started": "2022-12-05T12:54:36.021472Z"
    }
   },
   "outputs": [],
   "source": [
    "from typing import List"
   ]
  },
  {
   "cell_type": "code",
   "execution_count": 48,
   "id": "f34cfca6-7fca-481e-873a-cf03fff14ffa",
   "metadata": {
    "execution": {
     "iopub.execute_input": "2022-12-05T13:18:05.633741Z",
     "iopub.status.busy": "2022-12-05T13:18:05.633315Z",
     "iopub.status.idle": "2022-12-05T13:18:05.639582Z",
     "shell.execute_reply": "2022-12-05T13:18:05.638876Z",
     "shell.execute_reply.started": "2022-12-05T13:18:05.633715Z"
    },
    "tags": []
   },
   "outputs": [],
   "source": [
    "lines = None\n",
    "with open(\"input\",\"r\") as f:\n",
    "    lines = f.readlines()\n",
    "lines = [e.replace(\"\\n\",\"\") for e in lines]"
   ]
  },
  {
   "cell_type": "code",
   "execution_count": 41,
   "id": "e4174ed2-9bb1-4b5d-8465-d5ebbd5f6adf",
   "metadata": {
    "execution": {
     "iopub.execute_input": "2022-12-05T13:15:36.186105Z",
     "iopub.status.busy": "2022-12-05T13:15:36.185706Z",
     "iopub.status.idle": "2022-12-05T13:15:36.196335Z",
     "shell.execute_reply": "2022-12-05T13:15:36.195452Z",
     "shell.execute_reply.started": "2022-12-05T13:15:36.186077Z"
    },
    "tags": []
   },
   "outputs": [],
   "source": [
    "def init_stacks(stack_init = List[str]):\n",
    "    reverse_track_init = stack_init[::-1]\n",
    "    \n",
    "    num_stacks = len(reverse_track_init[0].split(\" \"))\n",
    "    \n",
    "    stacks = [[] for _ in range(num_stacks)]\n",
    "    \n",
    "    for line in reverse_track_init:\n",
    "        for i in (range(0,len(line),4)):\n",
    "            if line[i:i+3].strip():\n",
    "                stacks[i//4].append(line[i:i+3])\n",
    "    return stacks"
   ]
  },
  {
   "cell_type": "code",
   "execution_count": 61,
   "id": "e456c826-49ea-48ef-8dc4-a0e42619c02c",
   "metadata": {
    "execution": {
     "iopub.execute_input": "2022-12-05T13:28:47.158550Z",
     "iopub.status.busy": "2022-12-05T13:28:47.157093Z",
     "iopub.status.idle": "2022-12-05T13:28:47.181682Z",
     "shell.execute_reply": "2022-12-05T13:28:47.180675Z",
     "shell.execute_reply.started": "2022-12-05T13:28:47.158466Z"
    },
    "scrolled": true,
    "tags": []
   },
   "outputs": [],
   "source": [
    "stacks = init_stacks(lines[:8])\n",
    "\n",
    "moves = lines[10:]\n",
    "\n",
    "for move in moves:\n",
    "    move = move.split(\" \")\n",
    "    quantity_to_move = int(move[1])\n",
    "    start_stack = int(move[3])\n",
    "    end_stack = int(move[5])\n",
    "    \n",
    "    for i in range(quantity_to_move):\n",
    "        stacks[end_stack-1].append(stacks[start_stack-1].pop())\n",
    "    "
   ]
  },
  {
   "cell_type": "code",
   "execution_count": 62,
   "id": "f012cb98-cd1e-435d-a894-c74e0535aeb9",
   "metadata": {
    "execution": {
     "iopub.execute_input": "2022-12-05T13:28:47.745924Z",
     "iopub.status.busy": "2022-12-05T13:28:47.745507Z",
     "iopub.status.idle": "2022-12-05T13:28:47.757749Z",
     "shell.execute_reply": "2022-12-05T13:28:47.755773Z",
     "shell.execute_reply.started": "2022-12-05T13:28:47.745896Z"
    },
    "tags": []
   },
   "outputs": [
    {
     "data": {
      "text/plain": [
       "[['[G]'],\n",
       " ['[R]'],\n",
       " ['[V]', '[S]', '[T]', '[T]'],\n",
       " ['[D]', '[N]', '[R]', '[W]', '[S]'],\n",
       " ['[F]', '[V]', '[B]', '[T]', '[B]', '[J]', '[D]', '[M]', '[W]'],\n",
       " ['[Q]', '[D]', '[B]', '[Q]', '[P]', '[Q]', '[F]', '[M]', '[V]', '[N]'],\n",
       " ['[N]', '[J]'],\n",
       " ['[J]',\n",
       "  '[B]',\n",
       "  '[N]',\n",
       "  '[T]',\n",
       "  '[L]',\n",
       "  '[H]',\n",
       "  '[M]',\n",
       "  '[D]',\n",
       "  '[R]',\n",
       "  '[D]',\n",
       "  '[H]',\n",
       "  '[N]',\n",
       "  '[H]'],\n",
       " ['[N]', '[V]', '[Q]', '[R]', '[S]', '[B]', '[B]', '[Z]', '[H]', '[Q]', '[H]']]"
      ]
     },
     "execution_count": 62,
     "metadata": {},
     "output_type": "execute_result"
    }
   ],
   "source": [
    "stacks"
   ]
  },
  {
   "cell_type": "code",
   "execution_count": 65,
   "id": "e59e1134-f70b-4b90-b5ce-29ba53a8a045",
   "metadata": {
    "execution": {
     "iopub.execute_input": "2022-12-05T13:30:10.335585Z",
     "iopub.status.busy": "2022-12-05T13:30:10.335013Z",
     "iopub.status.idle": "2022-12-05T13:30:10.340992Z",
     "shell.execute_reply": "2022-12-05T13:30:10.339299Z",
     "shell.execute_reply.started": "2022-12-05T13:30:10.335550Z"
    }
   },
   "outputs": [],
   "source": [
    "import re"
   ]
  },
  {
   "cell_type": "code",
   "execution_count": 67,
   "id": "81adec9a-9de5-4fe2-bf76-9d4aaefac45b",
   "metadata": {
    "execution": {
     "iopub.execute_input": "2022-12-05T13:30:47.995835Z",
     "iopub.status.busy": "2022-12-05T13:30:47.995401Z",
     "iopub.status.idle": "2022-12-05T13:30:48.001682Z",
     "shell.execute_reply": "2022-12-05T13:30:47.999732Z",
     "shell.execute_reply.started": "2022-12-05T13:30:47.995809Z"
    },
    "tags": []
   },
   "outputs": [],
   "source": [
    "last_letters = [re.sub(r\"\\[|]\",\"\",e[-1]) for e in stacks]    "
   ]
  },
  {
   "cell_type": "code",
   "execution_count": 69,
   "id": "e0db1d2d-2588-4f7e-92d8-31f78ac53d81",
   "metadata": {
    "execution": {
     "iopub.execute_input": "2022-12-05T13:30:59.044749Z",
     "iopub.status.busy": "2022-12-05T13:30:59.044024Z",
     "iopub.status.idle": "2022-12-05T13:30:59.053206Z",
     "shell.execute_reply": "2022-12-05T13:30:59.052311Z",
     "shell.execute_reply.started": "2022-12-05T13:30:59.044694Z"
    },
    "tags": []
   },
   "outputs": [
    {
     "data": {
      "text/plain": [
       "'GRTSWNJHH'"
      ]
     },
     "execution_count": 69,
     "metadata": {},
     "output_type": "execute_result"
    }
   ],
   "source": [
    "\"\".join(last_letters)"
   ]
  },
  {
   "cell_type": "code",
   "execution_count": null,
   "id": "6754b09f-55a7-48ad-a316-97dac6760092",
   "metadata": {},
   "outputs": [],
   "source": []
  }
 ],
 "metadata": {
  "kernelspec": {
   "display_name": "Python [conda env:analytics]",
   "language": "python",
   "name": "conda-env-analytics-py"
  },
  "language_info": {
   "codemirror_mode": {
    "name": "ipython",
    "version": 3
   },
   "file_extension": ".py",
   "mimetype": "text/x-python",
   "name": "python",
   "nbconvert_exporter": "python",
   "pygments_lexer": "ipython3",
   "version": "3.10.6"
  }
 },
 "nbformat": 4,
 "nbformat_minor": 5
}
