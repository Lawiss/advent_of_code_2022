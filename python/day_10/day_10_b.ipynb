{
 "cells": [
  {
   "cell_type": "code",
   "execution_count": 36,
   "id": "41b9c349-d6c3-4021-80eb-4382298009e7",
   "metadata": {
    "execution": {
     "iopub.execute_input": "2022-12-13T18:12:37.395670Z",
     "iopub.status.busy": "2022-12-13T18:12:37.394847Z",
     "iopub.status.idle": "2022-12-13T18:12:37.410992Z",
     "shell.execute_reply": "2022-12-13T18:12:37.410016Z",
     "shell.execute_reply.started": "2022-12-13T18:12:37.395611Z"
    },
    "scrolled": true,
    "tags": []
   },
   "outputs": [],
   "source": [
    "x_register = 1\n",
    "cycle = 0\n",
    "crt = [\".\"]*240\n",
    "with open(\"input\",\"r\") as f:\n",
    "    for line in f:\n",
    "        line = line.replace(\"\\n\",\"\").split(\" \")\n",
    "        \n",
    "        if line[0]==\"noop\":\n",
    "            \n",
    "            if x_register-1<=cycle%40<=x_register+1:\n",
    "                crt[cycle]=\"#\"\n",
    "            cycle+=1\n",
    "            \n",
    "            \n",
    "        \n",
    "        elif line[0]=='addx':\n",
    "            if x_register-1<=cycle%40<=x_register+1:\n",
    "                crt[cycle]=\"#\"\n",
    "            cycle+=1\n",
    "            if x_register-1<=cycle%40<=x_register+1:\n",
    "                crt[cycle]=\"#\"\n",
    "            cycle+=1\n",
    "            \n",
    "            x_register += int(line[1])\n",
    "\n",
    "        else:\n",
    "            raise\n"
   ]
  },
  {
   "cell_type": "code",
   "execution_count": 37,
   "id": "01e946c9-f97c-46cd-bc31-3e584adf93a0",
   "metadata": {
    "execution": {
     "iopub.execute_input": "2022-12-13T18:12:39.229866Z",
     "iopub.status.busy": "2022-12-13T18:12:39.227582Z",
     "iopub.status.idle": "2022-12-13T18:12:39.241242Z",
     "shell.execute_reply": "2022-12-13T18:12:39.240341Z",
     "shell.execute_reply.started": "2022-12-13T18:12:39.229801Z"
    },
    "tags": []
   },
   "outputs": [
    {
     "name": "stdout",
     "output_type": "stream",
     "text": [
      "\n",
      "####.#..#.###..###..####.####..##..#....\n",
      "...#.#..#.#..#.#..#.#....#....#..#.#....\n",
      "..#..#..#.#..#.#..#.###..###..#....#....\n",
      ".#...#..#.###..###..#....#....#....#....\n",
      "#....#..#.#....#.#..#....#....#..#.#....\n",
      "####..##..#....#..#.#....####..##..####."
     ]
    }
   ],
   "source": [
    "for i,e in enumerate(crt):\n",
    "    if (i%40)==0:\n",
    "        print(\"\\r\")\n",
    "    print(e,end=\"\")"
   ]
  }
 ],
 "metadata": {
  "kernelspec": {
   "display_name": "Python [conda env:analytics]",
   "language": "python",
   "name": "conda-env-analytics-py"
  },
  "language_info": {
   "codemirror_mode": {
    "name": "ipython",
    "version": 3
   },
   "file_extension": ".py",
   "mimetype": "text/x-python",
   "name": "python",
   "nbconvert_exporter": "python",
   "pygments_lexer": "ipython3",
   "version": "3.10.6"
  }
 },
 "nbformat": 4,
 "nbformat_minor": 5
}
