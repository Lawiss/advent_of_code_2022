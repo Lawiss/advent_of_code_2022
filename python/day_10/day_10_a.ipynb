{
 "cells": [
  {
   "cell_type": "code",
   "execution_count": 25,
   "id": "41b9c349-d6c3-4021-80eb-4382298009e7",
   "metadata": {
    "execution": {
     "iopub.execute_input": "2022-12-13T18:13:08.796491Z",
     "iopub.status.busy": "2022-12-13T18:13:08.795002Z",
     "iopub.status.idle": "2022-12-13T18:13:08.817373Z",
     "shell.execute_reply": "2022-12-13T18:13:08.816966Z",
     "shell.execute_reply.started": "2022-12-13T18:13:08.796334Z"
    },
    "scrolled": true,
    "tags": []
   },
   "outputs": [],
   "source": [
    "cycle_num_to_check = [20,60,100,140,180,220]\n",
    "signal_strength = {}\n",
    "x_register = 1\n",
    "cycle = 0\n",
    "with open(\"input\",\"r\") as f:\n",
    "    for line in f:\n",
    "        line = line.replace(\"\\n\",\"\").split(\" \")\n",
    "        if line[0]==\"noop\":\n",
    "            cycle+=1\n",
    "            \n",
    "            if cycle in cycle_num_to_check:\n",
    "                signal_strength[cycle]=x_register\n",
    "          \n",
    "        \n",
    "        elif line[0]=='addx':\n",
    "            cycle+=1\n",
    "            \n",
    "\n",
    "            if cycle in cycle_num_to_check:\n",
    "                \n",
    "                signal_strength[cycle]=x_register\n",
    "            cycle+=1\n",
    "           \n",
    "        \n",
    "            if cycle in cycle_num_to_check:\n",
    "                signal_strength[cycle]=x_register\n",
    "            x_register += int(line[1])\n",
    "\n",
    "        else:\n",
    "            raise\n"
   ]
  },
  {
   "cell_type": "code",
   "execution_count": 26,
   "id": "4b612f26-f17b-4b2a-b13b-7348fcd3bf0b",
   "metadata": {
    "execution": {
     "iopub.execute_input": "2022-12-13T18:13:10.301687Z",
     "iopub.status.busy": "2022-12-13T18:13:10.301261Z",
     "iopub.status.idle": "2022-12-13T18:13:10.309629Z",
     "shell.execute_reply": "2022-12-13T18:13:10.308849Z",
     "shell.execute_reply.started": "2022-12-13T18:13:10.301662Z"
    },
    "tags": []
   },
   "outputs": [
    {
     "data": {
      "text/plain": [
       "{20: 16, 60: 21, 100: 17, 140: 21, 180: 21, 220: 17}"
      ]
     },
     "execution_count": 26,
     "metadata": {},
     "output_type": "execute_result"
    }
   ],
   "source": [
    "signal_strength"
   ]
  },
  {
   "cell_type": "code",
   "execution_count": 22,
   "id": "19faa0a4-34bd-44da-be9d-273a8dee561f",
   "metadata": {
    "execution": {
     "iopub.execute_input": "2022-12-13T12:47:44.048485Z",
     "iopub.status.busy": "2022-12-13T12:47:44.047732Z",
     "iopub.status.idle": "2022-12-13T12:47:44.067512Z",
     "shell.execute_reply": "2022-12-13T12:47:44.060378Z",
     "shell.execute_reply.started": "2022-12-13T12:47:44.048436Z"
    },
    "tags": []
   },
   "outputs": [],
   "source": [
    "sum_values = 0\n",
    "for k,v in signal_strength.items():\n",
    "    sum_values+=k*v"
   ]
  },
  {
   "cell_type": "code",
   "execution_count": 23,
   "id": "18c95cbe-abf5-421a-82a6-d63372851e02",
   "metadata": {
    "execution": {
     "iopub.execute_input": "2022-12-13T12:47:44.507798Z",
     "iopub.status.busy": "2022-12-13T12:47:44.507317Z",
     "iopub.status.idle": "2022-12-13T12:47:44.517110Z",
     "shell.execute_reply": "2022-12-13T12:47:44.516452Z",
     "shell.execute_reply.started": "2022-12-13T12:47:44.507770Z"
    },
    "tags": []
   },
   "outputs": [
    {
     "data": {
      "text/plain": [
       "13740"
      ]
     },
     "execution_count": 23,
     "metadata": {},
     "output_type": "execute_result"
    }
   ],
   "source": [
    "sum_values"
   ]
  }
 ],
 "metadata": {
  "kernelspec": {
   "display_name": "Python [conda env:analytics]",
   "language": "python",
   "name": "conda-env-analytics-py"
  },
  "language_info": {
   "codemirror_mode": {
    "name": "ipython",
    "version": 3
   },
   "file_extension": ".py",
   "mimetype": "text/x-python",
   "name": "python",
   "nbconvert_exporter": "python",
   "pygments_lexer": "ipython3",
   "version": "3.10.6"
  }
 },
 "nbformat": 4,
 "nbformat_minor": 5
}
