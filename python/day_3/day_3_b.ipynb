{
 "cells": [
  {
   "cell_type": "code",
   "execution_count": 1,
   "id": "fd939ffe-9655-47cb-ac72-9ad2d30f0f30",
   "metadata": {
    "execution": {
     "iopub.execute_input": "2022-12-03T14:47:44.244796Z",
     "iopub.status.busy": "2022-12-03T14:47:44.243573Z",
     "iopub.status.idle": "2022-12-03T14:47:44.268861Z",
     "shell.execute_reply": "2022-12-03T14:47:44.267509Z",
     "shell.execute_reply.started": "2022-12-03T14:47:44.244582Z"
    },
    "tags": []
   },
   "outputs": [],
   "source": [
    "import string"
   ]
  },
  {
   "cell_type": "code",
   "execution_count": 2,
   "id": "55b6b3e1-3f4b-4590-a28f-6e750d6c827c",
   "metadata": {
    "execution": {
     "iopub.execute_input": "2022-12-03T14:47:44.877533Z",
     "iopub.status.busy": "2022-12-03T14:47:44.877078Z",
     "iopub.status.idle": "2022-12-03T14:47:44.890233Z",
     "shell.execute_reply": "2022-12-03T14:47:44.888787Z",
     "shell.execute_reply.started": "2022-12-03T14:47:44.877484Z"
    },
    "tags": []
   },
   "outputs": [],
   "source": [
    "letters = list(string.ascii_lowercase) + list(string.ascii_uppercase)"
   ]
  },
  {
   "cell_type": "code",
   "execution_count": 11,
   "id": "5e1619d2-2b99-4f18-840f-c31c8bfbb039",
   "metadata": {
    "execution": {
     "iopub.execute_input": "2022-12-03T15:22:44.047266Z",
     "iopub.status.busy": "2022-12-03T15:22:44.046113Z",
     "iopub.status.idle": "2022-12-03T15:22:44.063522Z",
     "shell.execute_reply": "2022-12-03T15:22:44.061286Z",
     "shell.execute_reply.started": "2022-12-03T15:22:44.047224Z"
    },
    "scrolled": true,
    "tags": []
   },
   "outputs": [],
   "source": [
    "sum_priorities = 0\n",
    "with open(\"input\",\"r\") as f:\n",
    "    group = []\n",
    "    for line in f:\n",
    "        line = line.replace(\"\\n\",\"\")\n",
    "        group.append(set(line)) \n",
    "        if len(group) == 3:\n",
    "            letter_in_common = (set(group[0]) & set(group[1]) & set(group[2])).pop()\n",
    "            points = letters.index(letter_in_common)+1\n",
    "            sum_priorities+= points\n",
    "            group = []\n",
    "        "
   ]
  },
  {
   "cell_type": "code",
   "execution_count": 12,
   "id": "262d39d4-dfe2-4a94-aeff-771da350c378",
   "metadata": {
    "execution": {
     "iopub.execute_input": "2022-12-03T15:22:45.310349Z",
     "iopub.status.busy": "2022-12-03T15:22:45.306216Z",
     "iopub.status.idle": "2022-12-03T15:22:45.327039Z",
     "shell.execute_reply": "2022-12-03T15:22:45.326110Z",
     "shell.execute_reply.started": "2022-12-03T15:22:45.310259Z"
    },
    "tags": []
   },
   "outputs": [
    {
     "data": {
      "text/plain": [
       "2587"
      ]
     },
     "execution_count": 12,
     "metadata": {},
     "output_type": "execute_result"
    }
   ],
   "source": [
    "sum_priorities"
   ]
  },
  {
   "cell_type": "code",
   "execution_count": null,
   "id": "6d754bed-19b3-41b9-bfe6-0afc7a348580",
   "metadata": {},
   "outputs": [],
   "source": []
  }
 ],
 "metadata": {
  "kernelspec": {
   "display_name": "Python [conda env:analytics]",
   "language": "python",
   "name": "conda-env-analytics-py"
  },
  "language_info": {
   "codemirror_mode": {
    "name": "ipython",
    "version": 3
   },
   "file_extension": ".py",
   "mimetype": "text/x-python",
   "name": "python",
   "nbconvert_exporter": "python",
   "pygments_lexer": "ipython3",
   "version": "3.10.6"
  }
 },
 "nbformat": 4,
 "nbformat_minor": 5
}
