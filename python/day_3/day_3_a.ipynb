{
 "cells": [
  {
   "cell_type": "code",
   "execution_count": 23,
   "id": "fd939ffe-9655-47cb-ac72-9ad2d30f0f30",
   "metadata": {
    "execution": {
     "iopub.execute_input": "2022-12-03T13:02:53.900486Z",
     "iopub.status.busy": "2022-12-03T13:02:53.899812Z",
     "iopub.status.idle": "2022-12-03T13:02:53.909200Z",
     "shell.execute_reply": "2022-12-03T13:02:53.907358Z",
     "shell.execute_reply.started": "2022-12-03T13:02:53.900455Z"
    }
   },
   "outputs": [],
   "source": [
    "import string"
   ]
  },
  {
   "cell_type": "code",
   "execution_count": 40,
   "id": "55b6b3e1-3f4b-4590-a28f-6e750d6c827c",
   "metadata": {
    "execution": {
     "iopub.execute_input": "2022-12-03T13:07:30.595389Z",
     "iopub.status.busy": "2022-12-03T13:07:30.594581Z",
     "iopub.status.idle": "2022-12-03T13:07:30.608695Z",
     "shell.execute_reply": "2022-12-03T13:07:30.605435Z",
     "shell.execute_reply.started": "2022-12-03T13:07:30.595331Z"
    },
    "tags": []
   },
   "outputs": [],
   "source": [
    "letters = list(string.ascii_lowercase) + list(string.ascii_uppercase)"
   ]
  },
  {
   "cell_type": "code",
   "execution_count": 41,
   "id": "5982c0a7-dbe2-48f1-87ba-1bdc7257f4b4",
   "metadata": {
    "execution": {
     "iopub.execute_input": "2022-12-03T13:07:30.879964Z",
     "iopub.status.busy": "2022-12-03T13:07:30.879379Z",
     "iopub.status.idle": "2022-12-03T13:07:30.894881Z",
     "shell.execute_reply": "2022-12-03T13:07:30.894080Z",
     "shell.execute_reply.started": "2022-12-03T13:07:30.879934Z"
    },
    "scrolled": true,
    "tags": []
   },
   "outputs": [
    {
     "data": {
      "text/plain": [
       "['a',\n",
       " 'b',\n",
       " 'c',\n",
       " 'd',\n",
       " 'e',\n",
       " 'f',\n",
       " 'g',\n",
       " 'h',\n",
       " 'i',\n",
       " 'j',\n",
       " 'k',\n",
       " 'l',\n",
       " 'm',\n",
       " 'n',\n",
       " 'o',\n",
       " 'p',\n",
       " 'q',\n",
       " 'r',\n",
       " 's',\n",
       " 't',\n",
       " 'u',\n",
       " 'v',\n",
       " 'w',\n",
       " 'x',\n",
       " 'y',\n",
       " 'z',\n",
       " 'A',\n",
       " 'B',\n",
       " 'C',\n",
       " 'D',\n",
       " 'E',\n",
       " 'F',\n",
       " 'G',\n",
       " 'H',\n",
       " 'I',\n",
       " 'J',\n",
       " 'K',\n",
       " 'L',\n",
       " 'M',\n",
       " 'N',\n",
       " 'O',\n",
       " 'P',\n",
       " 'Q',\n",
       " 'R',\n",
       " 'S',\n",
       " 'T',\n",
       " 'U',\n",
       " 'V',\n",
       " 'W',\n",
       " 'X',\n",
       " 'Y',\n",
       " 'Z']"
      ]
     },
     "execution_count": 41,
     "metadata": {},
     "output_type": "execute_result"
    }
   ],
   "source": [
    "letters"
   ]
  },
  {
   "cell_type": "code",
   "execution_count": 46,
   "id": "5e1619d2-2b99-4f18-840f-c31c8bfbb039",
   "metadata": {
    "execution": {
     "iopub.execute_input": "2022-12-03T13:08:15.318343Z",
     "iopub.status.busy": "2022-12-03T13:08:15.317706Z",
     "iopub.status.idle": "2022-12-03T13:08:15.345544Z",
     "shell.execute_reply": "2022-12-03T13:08:15.344385Z",
     "shell.execute_reply.started": "2022-12-03T13:08:15.318313Z"
    },
    "tags": []
   },
   "outputs": [],
   "source": [
    "sum_priorities = 0\n",
    "with open(\"input\",\"r\") as f:\n",
    "    for line in f:\n",
    "        line = line.replace(\"\\n\",\"\")\n",
    "        middle = len(line)//2\n",
    "        left, right = line[:middle], line[middle:]\n",
    "        letter_in_common = (set(left) & set(right)).pop()\n",
    "        points = letters.index(letter_in_common)+1\n",
    "        sum_priorities+= points\n",
    "        \n",
    "        "
   ]
  },
  {
   "cell_type": "code",
   "execution_count": 48,
   "id": "262d39d4-dfe2-4a94-aeff-771da350c378",
   "metadata": {
    "execution": {
     "iopub.execute_input": "2022-12-03T13:08:21.013045Z",
     "iopub.status.busy": "2022-12-03T13:08:21.012265Z",
     "iopub.status.idle": "2022-12-03T13:08:21.031034Z",
     "shell.execute_reply": "2022-12-03T13:08:21.030243Z",
     "shell.execute_reply.started": "2022-12-03T13:08:21.013009Z"
    },
    "tags": []
   },
   "outputs": [
    {
     "data": {
      "text/plain": [
       "8240"
      ]
     },
     "execution_count": 48,
     "metadata": {},
     "output_type": "execute_result"
    }
   ],
   "source": [
    "sum_priorities"
   ]
  }
 ],
 "metadata": {
  "kernelspec": {
   "display_name": "Python [conda env:analytics]",
   "language": "python",
   "name": "conda-env-analytics-py"
  },
  "language_info": {
   "codemirror_mode": {
    "name": "ipython",
    "version": 3
   },
   "file_extension": ".py",
   "mimetype": "text/x-python",
   "name": "python",
   "nbconvert_exporter": "python",
   "pygments_lexer": "ipython3",
   "version": "3.10.6"
  }
 },
 "nbformat": 4,
 "nbformat_minor": 5
}
